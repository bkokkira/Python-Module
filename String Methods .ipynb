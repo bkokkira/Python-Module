{
 "cells": [
  {
   "cell_type": "markdown",
   "id": "aa423c1c",
   "metadata": {},
   "source": [
    "# String Methods In Python\n",
    "\n",
    "## What is a string ?\n",
    "  \n",
    "  * In Python, strings are sequences of characters, and the number of characters in a string can vary from an empty string (0 characters) to a string with many characters. There is no fixed limit to the number of characters in a string. Python strings are designed to be very flexible and can hold a wide range of characters, including letters, digits, symbols, spaces, and special characters."
   ]
  },
  {
   "cell_type": "markdown",
   "id": "752bdfbf",
   "metadata": {},
   "source": [
    "### How many methods are there in strings in python\n",
    " \n",
    "* Python's strings have 47 methods. That's almost as many string methods as there are built-in functions in Python! Which string methods should you learn first? There are about a dozen string methods that are extremely useful and worth committing to memory."
   ]
  },
  {
   "cell_type": "markdown",
   "id": "9b9d2593",
   "metadata": {},
   "source": [
    "* Python provides a variety of methods for working with strings. The exact number of methods can change with different Python versions, but there are several commonly used string methods. Here are some of the most frequently used string methods in Python:"
   ]
  },
  {
   "cell_type": "markdown",
   "id": "aa7a6e06",
   "metadata": {},
   "source": [
    "### 1.Upper :\n",
    "\n",
    "* In Python, the term \"upper\" refers to making all the alphabetic characters in a string uppercase, which means converting lowercase letters to uppercase. The str.upper() method is used to perform this operation on a string.  \n",
    "\n",
    "* <b>syntax</b> :string.upper()\n",
    "* <b>string</b>: This is the string on which you want to apply the upper() method.\n",
    "* <b>upper()</b>: This is the method itself that converts the string to uppercase.\n",
    "\n"
   ]
  },
  {
   "cell_type": "markdown",
   "id": "de2975a8",
   "metadata": {},
   "source": [
    "where,\n",
    "* It returns a new string with all alphabetic characters converted to uppercase.\n",
    "* It does not modify the original string but instead creates a new string.\n",
    "* Non-alphabetic characters (like punctuation marks, numbers, and spaces) are not affected and remain unchanged in the resulting string.\n",
    "* Characters that are already uppercase in the original string will remain uppercase in the new string."
   ]
  },
  {
   "cell_type": "code",
   "execution_count": 14,
   "id": "3b26a575",
   "metadata": {},
   "outputs": [
    {
     "name": "stdout",
     "output_type": "stream",
     "text": [
      "Help on method_descriptor:\n",
      "\n",
      "upper(self, /)\n",
      "    Return a copy of the string converted to uppercase.\n",
      "\n"
     ]
    }
   ],
   "source": [
    "help(str.upper)"
   ]
  },
  {
   "cell_type": "markdown",
   "id": "929d1a83",
   "metadata": {},
   "source": [
    "##### Here's an example of how to use the upper() method:"
   ]
  },
  {
   "cell_type": "code",
   "execution_count": 15,
   "id": "2b0c9a2a",
   "metadata": {},
   "outputs": [
    {
     "data": {
      "text/plain": [
       "'HELLO WORLD!'"
      ]
     },
     "execution_count": 15,
     "metadata": {},
     "output_type": "execute_result"
    }
   ],
   "source": [
    "a=\"hello World!\"  ##--->It converts into Capital letters\n",
    "au=a.upper()\n",
    "au"
   ]
  },
  {
   "cell_type": "markdown",
   "id": "347bf1c0",
   "metadata": {},
   "source": [
    "### 2.Lower :"
   ]
  },
  {
   "cell_type": "markdown",
   "id": "4be7fd9a",
   "metadata": {},
   "source": [
    "* In Python, \"lower\" refers to converting all alphabetic characters in a string to lowercase. The str.lower() method is used to perform this operation on a string. \n",
    "* <b>syntax  :</b>string.lower()\n",
    "* <b> string :</b> This is the string on which you want to apply the lower() method.\n",
    "* <b>lower() :</b> This is the method itself that converts the string to lowercase.\n"
   ]
  },
  {
   "cell_type": "markdown",
   "id": "d844d2d2",
   "metadata": {},
   "source": [
    "where,\n",
    "* It returns a new string with all alphabetic characters converted to lowercase.\n",
    "* It does not modify the original string but instead creates a new string.\n",
    "* Non-alphabetic characters (like punctuation marks, numbers, and spaces) are not affected and remain unchanged in the resulting string.\n",
    "* Characters that are already lowercase in the original string will remain lowercase in the new string.\n"
   ]
  },
  {
   "cell_type": "code",
   "execution_count": 16,
   "id": "64b02a0e",
   "metadata": {},
   "outputs": [
    {
     "name": "stdout",
     "output_type": "stream",
     "text": [
      "Help on method_descriptor:\n",
      "\n",
      "lower(self, /)\n",
      "    Return a copy of the string converted to lowercase.\n",
      "\n"
     ]
    }
   ],
   "source": [
    "help(str.lower)"
   ]
  },
  {
   "cell_type": "markdown",
   "id": "ba60e377",
   "metadata": {},
   "source": [
    "##### Here's an example of how to use the upper() method:"
   ]
  },
  {
   "cell_type": "code",
   "execution_count": 17,
   "id": "e7c9103c",
   "metadata": {},
   "outputs": [
    {
     "data": {
      "text/plain": [
       "'zoo-zoo'"
      ]
     },
     "execution_count": 17,
     "metadata": {},
     "output_type": "execute_result"
    }
   ],
   "source": [
    "b=\"ZOO-ZOO\" ##----> It converts entire string into small letters.\n",
    "bl=b.lower()\n",
    "bl"
   ]
  },
  {
   "cell_type": "markdown",
   "id": "9c408128",
   "metadata": {},
   "source": [
    "### 3.Title :\n",
    "\n",
    "* In Python, the title() method is used to convert a string into a title-cased version. Title-cased means that the first character of each word is capitalized (converted to uppercase), while all other characters in the word are in lowercase.\n",
    "* <b>syntax :</b> string.title()\n",
    "* string: This is the string on which you want to apply the title() method.\n",
    "* title(): This is the method itself that converts the string to title case.\n"
   ]
  },
  {
   "cell_type": "markdown",
   "id": "91b4fe22",
   "metadata": {},
   "source": [
    "* The title() method is often used when you want to present text in a more readable and standardized form, such as when formatting titles, headings, or user-friendly output.\n",
    "\n",
    "* It's important to note that the title() method does not modify the original string but instead returns a new string in title case."
   ]
  },
  {
   "cell_type": "code",
   "execution_count": 24,
   "id": "8565b62b",
   "metadata": {},
   "outputs": [
    {
     "name": "stdout",
     "output_type": "stream",
     "text": [
      "Help on method_descriptor:\n",
      "\n",
      "title(self, /)\n",
      "    Return a version of the string where each word is titlecased.\n",
      "    \n",
      "    More specifically, words start with uppercased characters and all remaining\n",
      "    cased characters have lower case.\n",
      "\n"
     ]
    }
   ],
   "source": [
    "help(str.title)"
   ]
  },
  {
   "cell_type": "markdown",
   "id": "c29fcac5",
   "metadata": {},
   "source": [
    "##### Here's an example of how to use the title() method:"
   ]
  },
  {
   "cell_type": "code",
   "execution_count": 18,
   "id": "dcfd9768",
   "metadata": {},
   "outputs": [
    {
     "data": {
      "text/plain": [
       "'Usa-California'"
      ]
     },
     "execution_count": 18,
     "metadata": {},
     "output_type": "execute_result"
    }
   ],
   "source": [
    "c=\"usa-california\" ##--->it converts first letter of every word in capital\n",
    "ct=c.title()\n",
    "ct"
   ]
  },
  {
   "cell_type": "markdown",
   "id": "43ad9446",
   "metadata": {},
   "source": [
    "### 4.SwapCase :\n",
    "\n",
    "* In Python, the term \"swap case\" refers to the action of changing the case of characters in a string, where lowercase letters are converted to uppercase, and uppercase letters are converted to lowercase. The str.swapcase() method is used to perform this operation on a string.\n",
    "* <b>Syntax :</b> string.swapcase() \n",
    " \n",
    " where;\n",
    "* string: This is the string on which you want to apply the swapcase() method.\n",
    "* swapcase(): This is the method itself that swaps the case of characters in the string."
   ]
  },
  {
   "cell_type": "markdown",
   "id": "8693b989",
   "metadata": {},
   "source": [
    "* It returns a new string with the case of each character swapped (uppercase to lowercase and vice versa).\n",
    "* It does not modify the original string but instead creates a new string.\n",
    "* Non-alphabetic characters (like punctuation marks, numbers, and spaces) are not affected and remain unchanged in the resulting string."
   ]
  },
  {
   "cell_type": "code",
   "execution_count": 25,
   "id": "cf89f2b3",
   "metadata": {},
   "outputs": [
    {
     "name": "stdout",
     "output_type": "stream",
     "text": [
      "Help on method_descriptor:\n",
      "\n",
      "swapcase(self, /)\n",
      "    Convert uppercase characters to lowercase and lowercase characters to uppercase.\n",
      "\n"
     ]
    }
   ],
   "source": [
    "help(str.swapcase)"
   ]
  },
  {
   "cell_type": "markdown",
   "id": "dbd0db3e",
   "metadata": {},
   "source": [
    "##### Here's an example of how to use the swapcase() method:"
   ]
  },
  {
   "cell_type": "code",
   "execution_count": 19,
   "id": "51b3f30b",
   "metadata": {},
   "outputs": [
    {
     "data": {
      "text/plain": [
       "'abcd-ABCD'"
      ]
     },
     "execution_count": 19,
     "metadata": {},
     "output_type": "execute_result"
    }
   ],
   "source": [
    "d=\"ABCD-abcd\" ##--->It converts lower to upper and upper case to lower case letters\n",
    "ds=d.swapcase()\n",
    "ds"
   ]
  },
  {
   "cell_type": "markdown",
   "id": "427eaaf4",
   "metadata": {},
   "source": [
    "### 5.CaseFold :\n",
    "\n",
    "* This means the casefold() method converts more characters into lower case compared to lower() . For example, the German letter ß is already lowercase so, the lower() method doesn’t make the conversion. But the casefold () method will convert ß to its equivalent character ss ."
   ]
  },
  {
   "cell_type": "markdown",
   "id": "f237aa2f",
   "metadata": {},
   "source": [
    "* It returns a new string with characters converted to lowercase and additional case-folding transformations.\n",
    "* It's more aggressive than lower() and is designed for case-insensitive comparisons and handling text in a way that accommodates a wider range of languages.\n",
    "* It can be useful when you need to compare or process text in a way that is insensitive to differences in case and accents."
   ]
  },
  {
   "cell_type": "code",
   "execution_count": 5,
   "id": "ed9c7266",
   "metadata": {},
   "outputs": [
    {
     "name": "stdout",
     "output_type": "stream",
     "text": [
      "Help on method_descriptor:\n",
      "\n",
      "casefold(self, /)\n",
      "    Return a version of the string suitable for caseless comparisons.\n",
      "\n"
     ]
    }
   ],
   "source": [
    "help(str.casefold)"
   ]
  },
  {
   "cell_type": "markdown",
   "id": "c51f35eb",
   "metadata": {},
   "source": [
    "<b>Syntax :</b>  string.casefold()\n",
    "\n",
    "where,\n",
    "* string: This is the string on which you want to apply the casefold() method.\n",
    "* casefold(): This is the method itself that performs case-folding on the string."
   ]
  },
  {
   "cell_type": "markdown",
   "id": "a4068d56",
   "metadata": {},
   "source": [
    "##### Here's an example of how to use the casefold() method:"
   ]
  },
  {
   "cell_type": "code",
   "execution_count": 27,
   "id": "3414cfc5",
   "metadata": {},
   "outputs": [
    {
     "data": {
      "text/plain": [
       "'the ss character called eszett'"
      ]
     },
     "execution_count": 27,
     "metadata": {},
     "output_type": "execute_result"
    }
   ],
   "source": [
    "e=\"the ß character called eszett\" ##--->it also converts more characters into lower letters . \n",
    "ec=e.casefold()\n",
    "ec"
   ]
  },
  {
   "cell_type": "code",
   "execution_count": 28,
   "id": "d8512e22",
   "metadata": {},
   "outputs": [
    {
     "data": {
      "text/plain": [
       "'hello world'"
      ]
     },
     "execution_count": 28,
     "metadata": {},
     "output_type": "execute_result"
    }
   ],
   "source": [
    "E=\"HeLLo WoRlD\"\n",
    "Ec=E.casefold()\n",
    "Ec"
   ]
  },
  {
   "cell_type": "markdown",
   "id": "1d9171e3",
   "metadata": {},
   "source": [
    "### 6. Capitalize :\n",
    " \n",
    " * In Python, \"capitalize\" typically refers to a string method that is used to change the first character of a string to uppercase (capital letter) and convert all the other characters in the string to lowercase. This is a common operation when you want to ensure that the first letter of a word or sentence is capitalized."
   ]
  },
  {
   "cell_type": "code",
   "execution_count": 2,
   "id": "31a0c0e1",
   "metadata": {},
   "outputs": [
    {
     "name": "stdout",
     "output_type": "stream",
     "text": [
      "Help on method_descriptor:\n",
      "\n",
      "capitalize(self, /)\n",
      "    Return a capitalized version of the string.\n",
      "    \n",
      "    More specifically, make the first character have upper case and the rest lower\n",
      "    case.\n",
      "\n"
     ]
    }
   ],
   "source": [
    "help(str.capitalize)"
   ]
  },
  {
   "cell_type": "markdown",
   "id": "8753980c",
   "metadata": {},
   "source": [
    " * <b>Syntax :</b> string.capitalize()\n",
    " \n",
    " where,\n",
    "* string is the string you want to capitalize.\n",
    "* capitalize() is the method that you call on the string."
   ]
  },
  {
   "cell_type": "markdown",
   "id": "31b955d2",
   "metadata": {},
   "source": [
    "##### Here's an example of how to use the capitalize method:¶"
   ]
  },
  {
   "cell_type": "code",
   "execution_count": 1,
   "id": "244507a6",
   "metadata": {},
   "outputs": [
    {
     "name": "stdout",
     "output_type": "stream",
     "text": [
      "Hello, world\n"
     ]
    }
   ],
   "source": [
    "text = \"hello, world\" ##-->Converts the first character to upper case\n",
    "capitalized_text = text.capitalize()\n",
    "print(capitalized_text)"
   ]
  },
  {
   "cell_type": "markdown",
   "id": "38a9f9ce",
   "metadata": {},
   "source": [
    "### 7. Center :\n",
    "* In Python, the center method is used to center a string within a specified width. It pads the string with a specified character (or space by default) to make it reach the desired width, with the original string centered in the middle. This method is often used for text formatting purposes."
   ]
  },
  {
   "cell_type": "code",
   "execution_count": 3,
   "id": "164f9c67",
   "metadata": {},
   "outputs": [
    {
     "name": "stdout",
     "output_type": "stream",
     "text": [
      "Help on method_descriptor:\n",
      "\n",
      "center(self, width, fillchar=' ', /)\n",
      "    Return a centered string of length width.\n",
      "    \n",
      "    Padding is done using the specified fill character (default is a space).\n",
      "\n"
     ]
    }
   ],
   "source": [
    "help(str.center)"
   ]
  },
  {
   "cell_type": "markdown",
   "id": "5383bd8a",
   "metadata": {},
   "source": [
    "<b>Syntax : </b> string.center(width[, fillchar])\n",
    "\n",
    "where;\n",
    "* string: This is the string you want to center.\n",
    "* width: This is the total width of the resulting centered string.\n",
    "* fillchar (optional): This is the character used for padding. If not provided, it defaults to a space character."
   ]
  },
  {
   "cell_type": "code",
   "execution_count": 4,
   "id": "8fec4778",
   "metadata": {},
   "outputs": [
    {
     "name": "stdout",
     "output_type": "stream",
     "text": [
      "**Python**\n"
     ]
    }
   ],
   "source": [
    "text = \"Python\"\n",
    "centered_text = text.center(10, '*')\n",
    "print(centered_text) ##-->>Returns a centered string\n"
   ]
  },
  {
   "cell_type": "markdown",
   "id": "05b3d1e3",
   "metadata": {},
   "source": [
    "### 8.Count :\n",
    "\n",
    "* In Python, the count method is used to count the number of occurrences of a substring within a given string. This method is available for string objects and is useful when you want to find out how many times a particular substring appears in a larger string."
   ]
  },
  {
   "cell_type": "code",
   "execution_count": 6,
   "id": "60b6c28f",
   "metadata": {},
   "outputs": [
    {
     "name": "stdout",
     "output_type": "stream",
     "text": [
      "Help on method_descriptor:\n",
      "\n",
      "count(...)\n",
      "    S.count(sub[, start[, end]]) -> int\n",
      "    \n",
      "    Return the number of non-overlapping occurrences of substring sub in\n",
      "    string S[start:end].  Optional arguments start and end are\n",
      "    interpreted as in slice notation.\n",
      "\n"
     ]
    }
   ],
   "source": [
    "help(str.count)"
   ]
  },
  {
   "cell_type": "markdown",
   "id": "179156be",
   "metadata": {},
   "source": [
    "<b> Syntax :</b> string.count(substring, start, end)\n"
   ]
  },
  {
   "cell_type": "markdown",
   "id": "211f481f",
   "metadata": {},
   "source": [
    "* string: This is the string in which you want to count occurrences.\n",
    "* substring: This is the substring you want to count within the string.\n",
    "* start (optional): This is the starting index within the string where the search begins. It defaults to 0 if not provided.\n",
    "* end (optional): This is the ending index within the string where the search ends. It defaults to the end of the string if not provided."
   ]
  },
  {
   "cell_type": "code",
   "execution_count": 7,
   "id": "fc2d8c35",
   "metadata": {},
   "outputs": [
    {
     "name": "stdout",
     "output_type": "stream",
     "text": [
      "2\n"
     ]
    }
   ],
   "source": [
    "text = \"Python is a popular programming language. Python is also used for web development.\"\n",
    "count_python = text.count(\"Python\")\n",
    "print(count_python)\n"
   ]
  },
  {
   "cell_type": "code",
   "execution_count": 12,
   "id": "2e7d055e",
   "metadata": {},
   "outputs": [
    {
     "name": "stdout",
     "output_type": "stream",
     "text": [
      "0\n"
     ]
    }
   ],
   "source": [
    "count_python = text.count(\"Python\", 20, 70)\n",
    "print(count_python) ##--->>Returns the number of times a specified value occurs in a string\n",
    "\n"
   ]
  },
  {
   "cell_type": "markdown",
   "id": "5b729cb5",
   "metadata": {},
   "source": [
    "### 9. Encode :\n",
    "\n",
    "* In Python, the encode method is used to convert a Unicode string into a specific character encoding, such as UTF-8 or ASCII. This is particularly useful when you want to represent text in a format that can be stored or transmitted, as different character encodings are used for different purposes. The encode method converts a string into a sequence of bytes based on the specified encoding."
   ]
  },
  {
   "cell_type": "code",
   "execution_count": 10,
   "id": "15368ef5",
   "metadata": {},
   "outputs": [
    {
     "name": "stdout",
     "output_type": "stream",
     "text": [
      "Help on method_descriptor:\n",
      "\n",
      "encode(self, /, encoding='utf-8', errors='strict')\n",
      "    Encode the string using the codec registered for encoding.\n",
      "    \n",
      "    encoding\n",
      "      The encoding in which to encode the string.\n",
      "    errors\n",
      "      The error handling scheme to use for encoding errors.\n",
      "      The default is 'strict' meaning that encoding errors raise a\n",
      "      UnicodeEncodeError.  Other possible values are 'ignore', 'replace' and\n",
      "      'xmlcharrefreplace' as well as any other name registered with\n",
      "      codecs.register_error that can handle UnicodeEncodeErrors.\n",
      "\n"
     ]
    }
   ],
   "source": [
    "help(str.encode)"
   ]
  },
  {
   "cell_type": "markdown",
   "id": "1fd58b44",
   "metadata": {},
   "source": [
    "<b> Syntax :</b> string.encode(encoding, errors)\n"
   ]
  },
  {
   "cell_type": "markdown",
   "id": "0d1a7434",
   "metadata": {},
   "source": [
    "where,\n",
    "\n",
    "* string: This is the string you want to encode.\n",
    "* encoding: This is the character encoding to use for the encoding process, such as \"utf-8,\" \"utf-16,\" \"ascii,\" etc.\n",
    "* errors (optional): This is the error handling scheme. It specifies how to handle characters that cannot be encoded with the specified encoding. The default is \"strict,\" but other common values include \"ignore\" and \"replace.\""
   ]
  },
  {
   "cell_type": "markdown",
   "id": "3ae22c72",
   "metadata": {},
   "source": [
    "##### Here's an example of how to use the encode method:"
   ]
  },
  {
   "cell_type": "code",
   "execution_count": 13,
   "id": "a613c192",
   "metadata": {},
   "outputs": [
    {
     "name": "stdout",
     "output_type": "stream",
     "text": [
      "b'Hello, world!'\n"
     ]
    }
   ],
   "source": [
    "text = \"Hello, world!\"\n",
    "encoded_text = text.encode(\"utf-8\") ##-->Returns an encoded version of the string\n",
    "print(encoded_text)\n"
   ]
  },
  {
   "cell_type": "markdown",
   "id": "09a49e08",
   "metadata": {},
   "source": [
    "### 10.Startswith :\n",
    "\n",
    "* In Python, the startswith method is used to check if a string starts with a specified prefix. It returns True if the string begins with the specified prefix, and False otherwise. This method is often used to perform simple checks on the starting characters of a string.\n"
   ]
  },
  {
   "cell_type": "code",
   "execution_count": 14,
   "id": "c03537ed",
   "metadata": {},
   "outputs": [
    {
     "name": "stdout",
     "output_type": "stream",
     "text": [
      "Help on method_descriptor:\n",
      "\n",
      "startswith(...)\n",
      "    S.startswith(prefix[, start[, end]]) -> bool\n",
      "    \n",
      "    Return True if S starts with the specified prefix, False otherwise.\n",
      "    With optional start, test S beginning at that position.\n",
      "    With optional end, stop comparing S at that position.\n",
      "    prefix can also be a tuple of strings to try.\n",
      "\n"
     ]
    }
   ],
   "source": [
    "help(str.startswith)"
   ]
  },
  {
   "cell_type": "markdown",
   "id": "f9fe6538",
   "metadata": {},
   "source": [
    "<b>Syntax : </b> string.startswith(prefix, start, end)\n",
    "\n",
    "where,\n",
    "* string: This is the string you want to check.\n",
    "* prefix: This is the prefix you want to check for at the beginning of the string.\n",
    "* start (optional): This is the starting index within the string where the check begins. It defaults to 0 if not provided.\n",
    "* end (optional): This is the ending index within the string where the check ends. It defaults to the end of the string if not provided."
   ]
  },
  {
   "cell_type": "markdown",
   "id": "833326c6",
   "metadata": {},
   "source": [
    "##### Here's an example of how to use the startswith method:"
   ]
  },
  {
   "cell_type": "code",
   "execution_count": 17,
   "id": "b026291f",
   "metadata": {},
   "outputs": [
    {
     "name": "stdout",
     "output_type": "stream",
     "text": [
      "True\n"
     ]
    }
   ],
   "source": [
    "text = \"Hello, world!\"\n",
    "result = text.startswith(\"Hello\") ##-->>Returns true if the string starts with the specified value\n",
    "\n",
    "print(result)\n",
    "\n"
   ]
  },
  {
   "cell_type": "code",
   "execution_count": 19,
   "id": "4021dc02",
   "metadata": {},
   "outputs": [
    {
     "name": "stdout",
     "output_type": "stream",
     "text": [
      "True\n"
     ]
    }
   ],
   "source": [
    "text = \"Python is a powerful programming language.\"\n",
    "result = text.startswith(\"powerful\", 12, 20)\n",
    "print(result)\n"
   ]
  },
  {
   "cell_type": "markdown",
   "id": "713d7b13",
   "metadata": {},
   "source": [
    "### 11. Endswith :\n",
    "\n",
    "* In Python, the endswith method is used to check if a string ends with a specified suffix. It returns True if the string ends with the specified suffix, and False otherwise. This method is often used to perform simple checks on the ending characters of a string."
   ]
  },
  {
   "cell_type": "code",
   "execution_count": 20,
   "id": "cfaa2ce1",
   "metadata": {},
   "outputs": [
    {
     "name": "stdout",
     "output_type": "stream",
     "text": [
      "Help on method_descriptor:\n",
      "\n",
      "endswith(...)\n",
      "    S.endswith(suffix[, start[, end]]) -> bool\n",
      "    \n",
      "    Return True if S ends with the specified suffix, False otherwise.\n",
      "    With optional start, test S beginning at that position.\n",
      "    With optional end, stop comparing S at that position.\n",
      "    suffix can also be a tuple of strings to try.\n",
      "\n"
     ]
    }
   ],
   "source": [
    "help(str.endswith)"
   ]
  },
  {
   "cell_type": "markdown",
   "id": "9bfa0fdb",
   "metadata": {},
   "source": [
    "<b>Syntax :</b> string.endswith(suffix, start, end)\n",
    " \n",
    " where;\n",
    "*  string: This is the string you want to check.\n",
    "* suffix: This is the suffix you want to check for at the end of the string.\n",
    "* start (optional): This is the starting index within the <b>string</b> where the check begins. It defaults to 0 if not provided.\n",
    "* end (optional): This is the ending index within the string where the check ends. It defaults to the end of the string if not provided.\n",
    "\n",
    " "
   ]
  },
  {
   "cell_type": "markdown",
   "id": "e415cd8f",
   "metadata": {},
   "source": [
    "##### Here's an example of how to use the endswith method:\n",
    "\n"
   ]
  },
  {
   "cell_type": "code",
   "execution_count": 22,
   "id": "626c8c4c",
   "metadata": {},
   "outputs": [
    {
     "name": "stdout",
     "output_type": "stream",
     "text": [
      "True\n"
     ]
    }
   ],
   "source": [
    "text = \"zebra in zoo\"\n",
    "result = text.endswith(\"zoo\") ##-->>Returns true if the string ends with the specified value\n",
    "\n",
    "print(result)\n"
   ]
  },
  {
   "cell_type": "code",
   "execution_count": 25,
   "id": "afe478e4",
   "metadata": {},
   "outputs": [
    {
     "name": "stdout",
     "output_type": "stream",
     "text": [
      "True\n"
     ]
    }
   ],
   "source": [
    "text = \"Python is a programming language.\"\n",
    "result = text.endswith(\"programming\", 0, 23)\n",
    "print(result)\n"
   ]
  },
  {
   "cell_type": "markdown",
   "id": "a271b674",
   "metadata": {},
   "source": [
    "### 12.Find :\n",
    "\n",
    "* In Python, the find method is used to search for a substring within a string and returns the index of the first occurrence of the substring. If the substring is not found, it returns -1. This method is commonly used to find the position of a specific substring within a larger string.\n"
   ]
  },
  {
   "cell_type": "code",
   "execution_count": 27,
   "id": "abdf46e6",
   "metadata": {},
   "outputs": [
    {
     "name": "stdout",
     "output_type": "stream",
     "text": [
      "Help on method_descriptor:\n",
      "\n",
      "find(...)\n",
      "    S.find(sub[, start[, end]]) -> int\n",
      "    \n",
      "    Return the lowest index in S where substring sub is found,\n",
      "    such that sub is contained within S[start:end].  Optional\n",
      "    arguments start and end are interpreted as in slice notation.\n",
      "    \n",
      "    Return -1 on failure.\n",
      "\n"
     ]
    }
   ],
   "source": [
    "help(str.find)"
   ]
  },
  {
   "cell_type": "markdown",
   "id": "aa85fc31",
   "metadata": {},
   "source": [
    "<b> Syntax :</b> string.find(substring, start, end)\n",
    "\n",
    "where;\n",
    "* string: This is the string in which you want to search for the substring.\n",
    "* substring: This is the substring you want to find within the string.\n",
    "* start (optional): This is the starting index within the string where the search begins. It defaults to 0 if not provided.\n",
    "* end (optional): This is the ending index within the string where the search ends. It defaults to the end of the string if not provided.\n",
    "* If the substring is not found, the find method will return -1. For example:"
   ]
  },
  {
   "cell_type": "markdown",
   "id": "1a5d78cf",
   "metadata": {},
   "source": [
    "##### Here's an example of how to use the find method:\n"
   ]
  },
  {
   "cell_type": "code",
   "execution_count": 29,
   "id": "767b20a3",
   "metadata": {},
   "outputs": [
    {
     "data": {
      "text/plain": [
       "0"
      ]
     },
     "execution_count": 29,
     "metadata": {},
     "output_type": "execute_result"
    }
   ],
   "source": [
    "x= '''Peter Piper picked a peck of pickled peppers.\n",
    " a peck of pickled peppers Peter Piper picked.\n",
    " If Peter Piper picked a peck of pickled peppers,\n",
    "Where’s the peck of pickled peppers Peter Piper picked?'''\n",
    "\n",
    "xf=x.find('Peter')\n",
    "xf"
   ]
  },
  {
   "cell_type": "code",
   "execution_count": 30,
   "id": "0b6761ac",
   "metadata": {},
   "outputs": [
    {
     "data": {
      "text/plain": [
       "'Peter Piper picked a peck of pickled peppers.\\n a peck of pickled peppers Peter Piper picked.\\n If Peter Piper picked a peck of pickled peppers,\\nWhere’s the peck of pickled peppers Peter Piper picked?'"
      ]
     },
     "execution_count": 30,
     "metadata": {},
     "output_type": "execute_result"
    }
   ],
   "source": [
    "x"
   ]
  },
  {
   "cell_type": "code",
   "execution_count": 34,
   "id": "3565f885",
   "metadata": {},
   "outputs": [
    {
     "data": {
      "text/plain": [
       "-1"
      ]
     },
     "execution_count": 34,
     "metadata": {},
     "output_type": "execute_result"
    }
   ],
   "source": [
    "x.find('Peter',12,45) ##-->it prints \"\"-1\",if substring is not found "
   ]
  },
  {
   "cell_type": "markdown",
   "id": "bc6c8397",
   "metadata": {},
   "source": [
    "### 13.rfind :\n",
    "\n",
    "* In Python, the rfind method is used to search for a substring within a string, but it returns the index of the last (rightmost) occurrence of the substring. If the substring is not found, it returns -1. This method is similar to the find method, but it searches for the last occurrence of the substring in the string.\n",
    "\n"
   ]
  },
  {
   "cell_type": "code",
   "execution_count": 38,
   "id": "53f570ea",
   "metadata": {},
   "outputs": [
    {
     "name": "stdout",
     "output_type": "stream",
     "text": [
      "Help on method_descriptor:\n",
      "\n",
      "rfind(...)\n",
      "    S.rfind(sub[, start[, end]]) -> int\n",
      "    \n",
      "    Return the highest index in S where substring sub is found,\n",
      "    such that sub is contained within S[start:end].  Optional\n",
      "    arguments start and end are interpreted as in slice notation.\n",
      "    \n",
      "    Return -1 on failure.\n",
      "\n"
     ]
    }
   ],
   "source": [
    "help(str.rfind)"
   ]
  },
  {
   "cell_type": "markdown",
   "id": "4c5b96f8",
   "metadata": {},
   "source": [
    "<b>Syntax :</b>  string.rfind(substring, start, end)\n",
    "\n",
    "where;\n",
    "* string: This is the string in which you want to search for the substring.\n",
    "* substring: This is the substring you want to find within the string.\n",
    "* start (optional): This is the starting index within the string where the search begins. It defaults to the end of the string if not provided.\n",
    "* end (optional): This is the ending index within the string where the search ends. It defaults to the end of the string if not provided."
   ]
  },
  {
   "cell_type": "markdown",
   "id": "e876d279",
   "metadata": {},
   "source": [
    "##### Here's an example of how to use the find method:\n"
   ]
  },
  {
   "cell_type": "code",
   "execution_count": 35,
   "id": "588b45cf",
   "metadata": {},
   "outputs": [
    {
     "name": "stdout",
     "output_type": "stream",
     "text": [
      "43\n"
     ]
    }
   ],
   "source": [
    "text = \"Python is a powerful programming language. Python is also used for web development.\"\n",
    "index = text.rfind(\"Python\")\n",
    "print(index)\n"
   ]
  },
  {
   "cell_type": "code",
   "execution_count": 37,
   "id": "ba12efcc",
   "metadata": {},
   "outputs": [
    {
     "data": {
      "text/plain": [
       "6"
      ]
     },
     "execution_count": 37,
     "metadata": {},
     "output_type": "execute_result"
    }
   ],
   "source": [
    "m='An example' ##--->Searches the string for a specified value and returns the last position of where it was found\n",
    "m.rfind('m',4,10)"
   ]
  },
  {
   "cell_type": "markdown",
   "id": "f28e3044",
   "metadata": {},
   "source": [
    "### 14.index ( )\n",
    "\n",
    "* In Python, the index method is used to find the index of the first occurrence of a specified value in a list, tuple, or string. This method is similar to the find method, but it's used with sequences like lists and strings to determine the position of an element or substring."
   ]
  },
  {
   "cell_type": "code",
   "execution_count": 39,
   "id": "6245facf",
   "metadata": {},
   "outputs": [
    {
     "name": "stdout",
     "output_type": "stream",
     "text": [
      "Help on method_descriptor:\n",
      "\n",
      "index(...)\n",
      "    S.index(sub[, start[, end]]) -> int\n",
      "    \n",
      "    Return the lowest index in S where substring sub is found,\n",
      "    such that sub is contained within S[start:end].  Optional\n",
      "    arguments start and end are interpreted as in slice notation.\n",
      "    \n",
      "    Raises ValueError when the substring is not found.\n",
      "\n"
     ]
    }
   ],
   "source": [
    "help(str.index)"
   ]
  },
  {
   "cell_type": "markdown",
   "id": "9573a53f",
   "metadata": {},
   "source": [
    "<b> Syntax :</b> sequence.index(value, start, end)\n",
    "\n",
    "where;\n",
    "* sequence: This is the list or tuple in which you want to find the value.\n",
    "* value: This is the element you want to find within the sequence.\n",
    "* start (optional): This is the starting index within the sequence where the search begins. It defaults to 0 if not provided.\n",
    "* end (optional): This is the ending index within the sequence where the search ends. It defaults to the end of the sequence if not provided.\n"
   ]
  },
  {
   "cell_type": "markdown",
   "id": "62747e36",
   "metadata": {},
   "source": [
    "##### Here's an example of how to use the find method:\n"
   ]
  },
  {
   "cell_type": "code",
   "execution_count": 40,
   "id": "4d619c96",
   "metadata": {},
   "outputs": [
    {
     "name": "stdout",
     "output_type": "stream",
     "text": [
      "2\n"
     ]
    }
   ],
   "source": [
    "my_list = [10, 20, 30, 40, 50] ##-->>Searches the string for a specified value and returns the position of where it was found\n",
    "index = my_list.index(30)\n",
    "print(index)\n"
   ]
  },
  {
   "cell_type": "code",
   "execution_count": 41,
   "id": "4f331317",
   "metadata": {},
   "outputs": [
    {
     "name": "stdout",
     "output_type": "stream",
     "text": [
      "12\n"
     ]
    }
   ],
   "source": [
    "text = \"Python is a powerful programming language.\"\n",
    "index = text.index(\"powerful\")\n",
    "print(index)\n"
   ]
  },
  {
   "cell_type": "markdown",
   "id": "37b1b5c4",
   "metadata": {},
   "source": [
    "### 15.rindex ( )\n",
    "* In Python, the rindex method is used to find the index of the last (rightmost) occurrence of a specified value within a list, tuple, or string. This method is similar to the index method, but it searches for the last occurrence of the specified element or substring."
   ]
  },
  {
   "cell_type": "code",
   "execution_count": 43,
   "id": "5b411a98",
   "metadata": {},
   "outputs": [
    {
     "name": "stdout",
     "output_type": "stream",
     "text": [
      "Help on method_descriptor:\n",
      "\n",
      "rindex(...)\n",
      "    S.rindex(sub[, start[, end]]) -> int\n",
      "    \n",
      "    Return the highest index in S where substring sub is found,\n",
      "    such that sub is contained within S[start:end].  Optional\n",
      "    arguments start and end are interpreted as in slice notation.\n",
      "    \n",
      "    Raises ValueError when the substring is not found.\n",
      "\n"
     ]
    }
   ],
   "source": [
    "help(str.rindex)"
   ]
  },
  {
   "cell_type": "markdown",
   "id": "37f228ad",
   "metadata": {},
   "source": [
    "<b> Syntax :</b> sequence.rindex(value, start, end)\n",
    "\n",
    "where;\n",
    "* sequence: This is the list or tuple in which you want to find the value.\n",
    "* value: This is the element you want to find within the sequence.\n",
    "* start (optional): This is the starting index within the sequence where the search begins. It defaults to the end of the sequence if not provided.\n",
    "* end (optional): This is the ending index within the sequence where the search ends. It defaults to 0 if not provided.\n"
   ]
  },
  {
   "cell_type": "markdown",
   "id": "23fc7152",
   "metadata": {},
   "source": [
    "##### Here's an example of how to use the find method:\n"
   ]
  },
  {
   "cell_type": "code",
   "execution_count": 50,
   "id": "3c697992",
   "metadata": {},
   "outputs": [
    {
     "data": {
      "text/plain": [
       "2"
      ]
     },
     "execution_count": 50,
     "metadata": {},
     "output_type": "execute_result"
    }
   ],
   "source": [
    "m = ('Apple') ##-->>Searches the string for a specified value and returns the last position of where it was found\n",
    "m.rindex('p')\n",
    "\n"
   ]
  },
  {
   "cell_type": "markdown",
   "id": "0f2e058e",
   "metadata": {},
   "source": [
    "### 16.Split :\n",
    "\n",
    "* In Python, the split() method is used to split a string into a list of substrings based on a specified delimiter. It's a common method for tokenizing a string, which means breaking it into smaller parts (tokens) for further processing.\n"
   ]
  },
  {
   "cell_type": "code",
   "execution_count": 51,
   "id": "95a71d8a",
   "metadata": {},
   "outputs": [
    {
     "name": "stdout",
     "output_type": "stream",
     "text": [
      "Help on method_descriptor:\n",
      "\n",
      "split(self, /, sep=None, maxsplit=-1)\n",
      "    Return a list of the substrings in the string, using sep as the separator string.\n",
      "    \n",
      "      sep\n",
      "        The separator used to split the string.\n",
      "    \n",
      "        When set to None (the default value), will split on any whitespace\n",
      "        character (including \\\\n \\\\r \\\\t \\\\f and spaces) and will discard\n",
      "        empty strings from the result.\n",
      "      maxsplit\n",
      "        Maximum number of splits (starting from the left).\n",
      "        -1 (the default value) means no limit.\n",
      "    \n",
      "    Note, str.split() is mainly useful for data that has been intentionally\n",
      "    delimited.  With natural text that includes punctuation, consider using\n",
      "    the regular expression module.\n",
      "\n"
     ]
    }
   ],
   "source": [
    "help(str.split)"
   ]
  },
  {
   "cell_type": "markdown",
   "id": "9ddf150e",
   "metadata": {},
   "source": [
    "<b> Syntax :</b> string.split([separator[, maxsplit]])\n",
    "\n",
    "where;\n",
    "* string: The original string that you want to split.\n",
    "* separator (optional): This is the character or substring used as the delimiter to split the string. If not specified, the string is split by whitespace (space, tab, or newline characters) by default.\n",
    "* maxsplit (optional): This parameter specifies the maximum number of splits to perform. If you don't specify it or set it to -1, all occurrences of the separator will be split. If you provide a positive integer, the splitting will stop after that many splits."
   ]
  },
  {
   "cell_type": "markdown",
   "id": "6ad75f3c",
   "metadata": {},
   "source": [
    "##### Here are some examples of using the split() method:\n",
    "\n"
   ]
  },
  {
   "cell_type": "code",
   "execution_count": 52,
   "id": "be1bec5f",
   "metadata": {},
   "outputs": [],
   "source": [
    "y=''''Peter Piper picked a peck of pickled peppers.\\n \n",
    "a peck of pickled peppers Peter Piper picked.\\n\n",
    "If Peter Piper picked a peck of pickled peppers,\\n\n",
    "Where’s the peck of pickled peppers Peter Piper picked?'''\n",
    "\n",
    "\n"
   ]
  },
  {
   "cell_type": "code",
   "execution_count": 53,
   "id": "d452125c",
   "metadata": {},
   "outputs": [
    {
     "data": {
      "text/plain": [
       "['Peter',\n",
       " 'Piper',\n",
       " 'picked',\n",
       " 'a',\n",
       " 'peck',\n",
       " 'of',\n",
       " 'pickled',\n",
       " 'peppers.',\n",
       " 'a',\n",
       " 'peck',\n",
       " 'of',\n",
       " 'pickled',\n",
       " 'peppers',\n",
       " 'Peter',\n",
       " 'Piper',\n",
       " 'picked.',\n",
       " 'If',\n",
       " 'Peter',\n",
       " 'Piper',\n",
       " 'picked',\n",
       " 'a',\n",
       " 'peck',\n",
       " 'of',\n",
       " 'pickled',\n",
       " 'peppers,',\n",
       " 'Where’s',\n",
       " 'the',\n",
       " 'peck',\n",
       " 'of',\n",
       " 'pickled',\n",
       " 'peppers',\n",
       " 'Peter',\n",
       " 'Piper',\n",
       " 'picked?']"
      ]
     },
     "execution_count": 53,
     "metadata": {},
     "output_type": "execute_result"
    }
   ],
   "source": [
    "x.split()"
   ]
  },
  {
   "cell_type": "code",
   "execution_count": 54,
   "id": "7d30c91c",
   "metadata": {},
   "outputs": [
    {
     "data": {
      "text/plain": [
       "['Peter',\n",
       " 'Piper',\n",
       " 'picked',\n",
       " 'a peck of pickled peppers.\\n a peck of pickled peppers Peter Piper picked.\\n If Peter Piper picked a peck of pickled peppers,\\nWhere’s the peck of pickled peppers Peter Piper picked?']"
      ]
     },
     "execution_count": 54,
     "metadata": {},
     "output_type": "execute_result"
    }
   ],
   "source": [
    "x.split(\" \",maxsplit=3) ##-->Splits the string at the specified separator, and returns a list\n"
   ]
  },
  {
   "cell_type": "markdown",
   "id": "d318cfa7",
   "metadata": {},
   "source": [
    "### 17.rsplit :\n",
    "* In Python, the rsplit() method is used to split a string into a list of substrings, similar to the split() method, but it starts splitting from the right end of the string. This method is particularly useful when you want to split a string into substrings, but you want to control where the splitting starts."
   ]
  },
  {
   "cell_type": "code",
   "execution_count": 55,
   "id": "35d8dd72",
   "metadata": {},
   "outputs": [
    {
     "name": "stdout",
     "output_type": "stream",
     "text": [
      "Help on method_descriptor:\n",
      "\n",
      "rsplit(self, /, sep=None, maxsplit=-1)\n",
      "    Return a list of the substrings in the string, using sep as the separator string.\n",
      "    \n",
      "      sep\n",
      "        The separator used to split the string.\n",
      "    \n",
      "        When set to None (the default value), will split on any whitespace\n",
      "        character (including \\\\n \\\\r \\\\t \\\\f and spaces) and will discard\n",
      "        empty strings from the result.\n",
      "      maxsplit\n",
      "        Maximum number of splits (starting from the left).\n",
      "        -1 (the default value) means no limit.\n",
      "    \n",
      "    Splitting starts at the end of the string and works to the front.\n",
      "\n"
     ]
    }
   ],
   "source": [
    "help(str.rsplit)"
   ]
  },
  {
   "cell_type": "markdown",
   "id": "596b5479",
   "metadata": {},
   "source": [
    "<b>Syntax :</b> string.rsplit([separator[, maxsplit]])\n",
    " \n",
    " where;\n",
    "* string: The original string that you want to split.\n",
    "* separator (optional): This is the character or substring used as the delimiter to split the string. If not specified, the string is split by whitespace (space, tab, or newline characters) by default.\n",
    "* maxsplit (optional): This parameter specifies the maximum number of splits to perform. If you don't specify it or set it to -1, all occurrences of the separator will be split. If you provide a positive integer, the splitting will stop after that many splits.\n",
    " "
   ]
  },
  {
   "cell_type": "markdown",
   "id": "9b21be34",
   "metadata": {},
   "source": [
    "##### Here's an example of using the rsplit() method:\n",
    "\n"
   ]
  },
  {
   "cell_type": "code",
   "execution_count": 57,
   "id": "963ceae1",
   "metadata": {},
   "outputs": [],
   "source": [
    "x=''''Peter Piper picked a peck of pickled peppers.\\n \n",
    "a peck of pickled peppers Peter Piper picked.\\n\n",
    "If Peter Piper picked a peck of pickled peppers,\\n\n",
    "Where’s the peck of pickled peppers Peter Piper picked?'''\n"
   ]
  },
  {
   "cell_type": "code",
   "execution_count": 58,
   "id": "59ed5959",
   "metadata": {},
   "outputs": [
    {
     "data": {
      "text/plain": [
       "[\"'Peter\",\n",
       " 'Piper',\n",
       " 'picked',\n",
       " 'a',\n",
       " 'peck',\n",
       " 'of',\n",
       " 'pickled',\n",
       " 'peppers.',\n",
       " 'a',\n",
       " 'peck',\n",
       " 'of',\n",
       " 'pickled',\n",
       " 'peppers',\n",
       " 'Peter',\n",
       " 'Piper',\n",
       " 'picked.',\n",
       " 'If',\n",
       " 'Peter',\n",
       " 'Piper',\n",
       " 'picked',\n",
       " 'a',\n",
       " 'peck',\n",
       " 'of',\n",
       " 'pickled',\n",
       " 'peppers,',\n",
       " 'Where’s',\n",
       " 'the',\n",
       " 'peck',\n",
       " 'of',\n",
       " 'pickled',\n",
       " 'peppers',\n",
       " 'Peter',\n",
       " 'Piper',\n",
       " 'picked?']"
      ]
     },
     "execution_count": 58,
     "metadata": {},
     "output_type": "execute_result"
    }
   ],
   "source": [
    "x.rsplit()"
   ]
  },
  {
   "cell_type": "code",
   "execution_count": 61,
   "id": "e347b22d",
   "metadata": {},
   "outputs": [
    {
     "data": {
      "text/plain": [
       "[\"'Peter Piper picked a peck of pickled peppers.\\n \\na peck of pickled peppers Peter Piper picked.\\n\\nIf Peter Piper picked a peck of pickled peppers,\\n\\nWhere’s the peck of pickled\",\n",
       " 'peppers',\n",
       " 'Peter',\n",
       " 'Piper',\n",
       " 'picked?']"
      ]
     },
     "execution_count": 61,
     "metadata": {},
     "output_type": "execute_result"
    }
   ],
   "source": [
    "x.rsplit(\" \",maxsplit=4) ##-->>Returns a right trim version of the string\n"
   ]
  },
  {
   "cell_type": "markdown",
   "id": "c0e16752",
   "metadata": {},
   "source": [
    "### 18.Partition :\n",
    "\n",
    "* In Python, the partition() method is used to split a string into three parts based on the first occurrence of a specified separator. It returns a tuple containing three elements:\n",
    "* The part of the string before the first occurrence of the separator.\n",
    "* The separator itself.\n",
    "* The part of the string after the first occurrence of the separator."
   ]
  },
  {
   "cell_type": "code",
   "execution_count": 62,
   "id": "8f1aedf8",
   "metadata": {},
   "outputs": [
    {
     "name": "stdout",
     "output_type": "stream",
     "text": [
      "Help on method_descriptor:\n",
      "\n",
      "partition(self, sep, /)\n",
      "    Partition the string into three parts using the given separator.\n",
      "    \n",
      "    This will search for the separator in the string.  If the separator is found,\n",
      "    returns a 3-tuple containing the part before the separator, the separator\n",
      "    itself, and the part after it.\n",
      "    \n",
      "    If the separator is not found, returns a 3-tuple containing the original string\n",
      "    and two empty strings.\n",
      "\n"
     ]
    }
   ],
   "source": [
    "help(str.partition)"
   ]
  },
  {
   "cell_type": "markdown",
   "id": "8a05df96",
   "metadata": {},
   "source": [
    "<b>Syntax :</b>  string.partition(separator)\n",
    "\n",
    "where;\n",
    "* string: The original string that you want to split.\n",
    "* separator: The character or substring used as the separator to split the string.\n"
   ]
  },
  {
   "cell_type": "markdown",
   "id": "24492d9e",
   "metadata": {},
   "source": [
    "##### Here's an example of using the partition() method:\n",
    "\n"
   ]
  },
  {
   "cell_type": "code",
   "execution_count": 63,
   "id": "3c3d9b30",
   "metadata": {},
   "outputs": [],
   "source": [
    "m='malayalam'"
   ]
  },
  {
   "cell_type": "code",
   "execution_count": 67,
   "id": "2c03a17a",
   "metadata": {},
   "outputs": [
    {
     "data": {
      "text/plain": [
       "('malayalam', '', '')"
      ]
     },
     "execution_count": 67,
     "metadata": {},
     "output_type": "execute_result"
    }
   ],
   "source": [
    "m.partition(\" \") ##-->Returns a tuple where the string is parted into three parts\n"
   ]
  },
  {
   "cell_type": "code",
   "execution_count": 68,
   "id": "7b1734ad",
   "metadata": {},
   "outputs": [
    {
     "data": {
      "text/plain": [
       "('mala', 'y', 'alam')"
      ]
     },
     "execution_count": 68,
     "metadata": {},
     "output_type": "execute_result"
    }
   ],
   "source": [
    "m.partition('y')"
   ]
  },
  {
   "cell_type": "markdown",
   "id": "8ba40c07",
   "metadata": {},
   "source": [
    "### 19.rpartition :\n",
    "\n",
    "* In Python, the rpartition() method is similar to partition(), but it splits a string into three parts based on the last occurrence of a specified separator, instead of the first. It returns a tuple containing three elements:\n",
    "* The part of the string before the last occurrence of the separator.\n",
    "* The separator itself (last occurrence).\n",
    "* The part of the string after the last occurrence of the separator."
   ]
  },
  {
   "cell_type": "code",
   "execution_count": 69,
   "id": "4bd0bf18",
   "metadata": {},
   "outputs": [
    {
     "name": "stdout",
     "output_type": "stream",
     "text": [
      "Help on method_descriptor:\n",
      "\n",
      "rpartition(self, sep, /)\n",
      "    Partition the string into three parts using the given separator.\n",
      "    \n",
      "    This will search for the separator in the string, starting at the end. If\n",
      "    the separator is found, returns a 3-tuple containing the part before the\n",
      "    separator, the separator itself, and the part after it.\n",
      "    \n",
      "    If the separator is not found, returns a 3-tuple containing two empty strings\n",
      "    and the original string.\n",
      "\n"
     ]
    }
   ],
   "source": [
    "help(str.rpartition)"
   ]
  },
  {
   "cell_type": "markdown",
   "id": "05c7fbb4",
   "metadata": {},
   "source": [
    "<b> Syntax : </b> string.rpartition(separator)\n",
    " \n",
    " where;\n",
    "* string: The original string that you want to split.\n",
    "* separator: The character or substring used as the separator to split the string.\n",
    " "
   ]
  },
  {
   "cell_type": "markdown",
   "id": "7e744bc3",
   "metadata": {},
   "source": [
    "##### Here's an example of using the rpartition() method:\n",
    "\n"
   ]
  },
  {
   "cell_type": "code",
   "execution_count": 73,
   "id": "5e5d27a6",
   "metadata": {},
   "outputs": [
    {
     "data": {
      "text/plain": [
       "('', '', 'malayalam')"
      ]
     },
     "execution_count": 73,
     "metadata": {},
     "output_type": "execute_result"
    }
   ],
   "source": [
    "M='malayalam' ##-->>Returns a tuple where the string is parted into three parts\n",
    "\n",
    "M.rpartition(\" \")"
   ]
  },
  {
   "cell_type": "code",
   "execution_count": 74,
   "id": "121b6d06",
   "metadata": {},
   "outputs": [
    {
     "data": {
      "text/plain": [
       "('mala', 'y', 'alam')"
      ]
     },
     "execution_count": 74,
     "metadata": {},
     "output_type": "execute_result"
    }
   ],
   "source": [
    "M.rpartition(\"y\")"
   ]
  },
  {
   "cell_type": "markdown",
   "id": "fc11821f",
   "metadata": {},
   "source": [
    "### 20. Splitlines :\n",
    "\n",
    "* In Python, the splitlines() method is used to split a multiline string into a list of lines. It separates the lines based on line breaks (newline characters) in the original string. This method is particularly useful when you have a multiline text block and want to process each line individually."
   ]
  },
  {
   "cell_type": "code",
   "execution_count": 75,
   "id": "1b410bba",
   "metadata": {},
   "outputs": [
    {
     "name": "stdout",
     "output_type": "stream",
     "text": [
      "Help on method_descriptor:\n",
      "\n",
      "splitlines(self, /, keepends=False)\n",
      "    Return a list of the lines in the string, breaking at line boundaries.\n",
      "    \n",
      "    Line breaks are not included in the resulting list unless keepends is given and\n",
      "    true.\n",
      "\n"
     ]
    }
   ],
   "source": [
    "help(str.splitlines)"
   ]
  },
  {
   "cell_type": "markdown",
   "id": "d64e815a",
   "metadata": {},
   "source": [
    "<b>Syntax :</b> string.splitlines(keepends=False)\n",
    "\n",
    "where;\n",
    "* string: The original multiline string that you want to split into lines.\n",
    "* keepends (optional): When set to True, each line in the result list will include the line break character(s) that terminated the line. If set to False (the default), line breaks are not included in the result.\n"
   ]
  },
  {
   "cell_type": "markdown",
   "id": "98f50dc2",
   "metadata": {},
   "source": [
    "##### Here's an example of using the splitlines() method:\n",
    "\n"
   ]
  },
  {
   "cell_type": "code",
   "execution_count": 76,
   "id": "6769b2e4",
   "metadata": {},
   "outputs": [
    {
     "data": {
      "text/plain": [
       "\"'Peter Piper picked a peck of pickled peppers.\\n \\na peck of pickled peppers Peter Piper picked.\\n\\nIf Peter Piper picked a peck of pickled peppers,\\n\\nWhere’s the peck of pickled peppers Peter Piper picked?\""
      ]
     },
     "execution_count": 76,
     "metadata": {},
     "output_type": "execute_result"
    }
   ],
   "source": [
    "x"
   ]
  },
  {
   "cell_type": "code",
   "execution_count": 82,
   "id": "08a2512d",
   "metadata": {},
   "outputs": [
    {
     "data": {
      "text/plain": [
       "[\"'Peter Piper picked a peck of pickled peppers.\",\n",
       " ' ',\n",
       " 'a peck of pickled peppers Peter Piper picked.',\n",
       " '',\n",
       " 'If Peter Piper picked a peck of pickled peppers,',\n",
       " '',\n",
       " 'Where’s the peck of pickled peppers Peter Piper picked?']"
      ]
     },
     "execution_count": 82,
     "metadata": {},
     "output_type": "execute_result"
    }
   ],
   "source": [
    "x.splitlines() ##-->>Splits the string at line breaks and returns a list\n"
   ]
  },
  {
   "cell_type": "markdown",
   "id": "e0234ae9",
   "metadata": {},
   "source": [
    "### 21.Center :\n",
    "\n",
    "* In Python, the center() method is a string method used to center a string within a specified width by adding padding characters on both sides of the string. This method is commonly used to format and align text within a fixed-width field."
   ]
  },
  {
   "cell_type": "code",
   "execution_count": 83,
   "id": "d6ce7cd0",
   "metadata": {},
   "outputs": [
    {
     "name": "stdout",
     "output_type": "stream",
     "text": [
      "Help on method_descriptor:\n",
      "\n",
      "center(self, width, fillchar=' ', /)\n",
      "    Return a centered string of length width.\n",
      "    \n",
      "    Padding is done using the specified fill character (default is a space).\n",
      "\n"
     ]
    }
   ],
   "source": [
    "help(str.center)"
   ]
  },
  {
   "cell_type": "markdown",
   "id": "ef22c500",
   "metadata": {},
   "source": [
    "<b> Syntax :</b>  string.center(width, fillchar)\n",
    " \n",
    " where;\n",
    "* string: The original string that you want to center.\n",
    "* width: The total width of the resulting centered string, including the original string.\n",
    "* fillchar (optional): The character used for padding. If not specified, it defaults to a space character."
   ]
  },
  {
   "cell_type": "markdown",
   "id": "5388f892",
   "metadata": {},
   "source": [
    "##### Here's an example of using the center() method:\n",
    "\n"
   ]
  },
  {
   "cell_type": "code",
   "execution_count": 86,
   "id": "f532f021",
   "metadata": {},
   "outputs": [
    {
     "name": "stdout",
     "output_type": "stream",
     "text": [
      "***Hello***\n"
     ]
    }
   ],
   "source": [
    "text = \"Hello\"\n",
    "centered_text = text.center(11, \"*\") ##--> it prints the string in the middle\n",
    "print(centered_text)  \n"
   ]
  },
  {
   "cell_type": "markdown",
   "id": "d6aaebc8",
   "metadata": {},
   "source": [
    "### 22.ljust :\n",
    "\n",
    "* In Python, the ljust() method is a string method used to left-justify a string within a specified width by adding padding characters on the right side of the string. This method is useful for formatting and aligning text within a fixed-width field, especially when you want to align text to the left."
   ]
  },
  {
   "cell_type": "code",
   "execution_count": 87,
   "id": "0921c6b6",
   "metadata": {},
   "outputs": [
    {
     "name": "stdout",
     "output_type": "stream",
     "text": [
      "Help on method_descriptor:\n",
      "\n",
      "ljust(self, width, fillchar=' ', /)\n",
      "    Return a left-justified string of length width.\n",
      "    \n",
      "    Padding is done using the specified fill character (default is a space).\n",
      "\n"
     ]
    }
   ],
   "source": [
    "help(str.ljust)"
   ]
  },
  {
   "cell_type": "markdown",
   "id": "32da4289",
   "metadata": {},
   "source": [
    "<b>Syntax :</b> string.ljust(width, fillchar)\n",
    " \n",
    " where;\n",
    "* string: The original string that you want to left-justify.\n",
    "* width: The total width of the resulting left-justified string, including the original string.\n",
    "* fillchar (optional): The character used for padding. If not specified, it defaults to a space character.\n",
    " "
   ]
  },
  {
   "cell_type": "markdown",
   "id": "625682fe",
   "metadata": {},
   "source": [
    "##### Here's an example of using the ljust() method:\n",
    "\n"
   ]
  },
  {
   "cell_type": "code",
   "execution_count": 90,
   "id": "942f39af",
   "metadata": {},
   "outputs": [
    {
     "name": "stdout",
     "output_type": "stream",
     "text": [
      "Hello*****\n"
     ]
    }
   ],
   "source": [
    "text = \"Hello\"\n",
    "left_justified_text = text.ljust(10, \"*\")\n",
    "print(left_justified_text)  "
   ]
  },
  {
   "cell_type": "code",
   "execution_count": 93,
   "id": "d29b2487",
   "metadata": {},
   "outputs": [
    {
     "data": {
      "text/plain": [
       "'Hello'"
      ]
     },
     "execution_count": 93,
     "metadata": {},
     "output_type": "execute_result"
    }
   ],
   "source": [
    "text.ljust(0) ##-->it prints string in left side "
   ]
  },
  {
   "cell_type": "markdown",
   "id": "e27fe70d",
   "metadata": {},
   "source": [
    "### 23.rjust :\n",
    "\n",
    "* In Python, the rjust() method is a string method used to right-justify a string within a specified width by adding padding characters on the left side of the string. This method is useful for formatting and aligning text within a fixed-width field, especially when you want to align text to the right.\n"
   ]
  },
  {
   "cell_type": "code",
   "execution_count": 94,
   "id": "c9eefecb",
   "metadata": {},
   "outputs": [
    {
     "name": "stdout",
     "output_type": "stream",
     "text": [
      "Help on method_descriptor:\n",
      "\n",
      "rjust(self, width, fillchar=' ', /)\n",
      "    Return a right-justified string of length width.\n",
      "    \n",
      "    Padding is done using the specified fill character (default is a space).\n",
      "\n"
     ]
    }
   ],
   "source": [
    "help(str.rjust)"
   ]
  },
  {
   "cell_type": "markdown",
   "id": "821f3138",
   "metadata": {},
   "source": [
    "<b>Syntax :</b> string.rjust(width, fillchar)\n",
    "\n",
    "where;\n",
    "* string: The original string that you want to right-justify.\n",
    "* width: The total width of the resulting right-justified string, including the original string.\n",
    "* fillchar (optional): The character used for padding. If not specified, it defaults to a space character.\n"
   ]
  },
  {
   "cell_type": "markdown",
   "id": "bee87442",
   "metadata": {},
   "source": [
    "##### Here's an example of using the rjust() method:\n",
    "\n"
   ]
  },
  {
   "cell_type": "code",
   "execution_count": 101,
   "id": "cc9927c9",
   "metadata": {},
   "outputs": [
    {
     "data": {
      "text/plain": [
       "'$$$$$$$$$$$$$$$$$$$$$$$$friend'"
      ]
     },
     "execution_count": 101,
     "metadata": {},
     "output_type": "execute_result"
    }
   ],
   "source": [
    "t=\"friend\"   ##-->>Returns a right justified version of the string\n",
    "\n",
    "t.rjust(30,'$')"
   ]
  },
  {
   "cell_type": "code",
   "execution_count": 104,
   "id": "2ae761d3",
   "metadata": {},
   "outputs": [
    {
     "data": {
      "text/plain": [
       "'friend'"
      ]
     },
     "execution_count": 104,
     "metadata": {},
     "output_type": "execute_result"
    }
   ],
   "source": [
    "t.rjust(0)"
   ]
  },
  {
   "cell_type": "markdown",
   "id": "e405a898",
   "metadata": {},
   "source": [
    "### 24.Strip :\n",
    "\n",
    "* In Python, the strip() method is a string method used to remove leading and trailing whitespace characters (spaces, tabs, and newline characters) from a string. It effectively trims or \"cleans\" the string by removing any whitespace at the beginning and end of the string."
   ]
  },
  {
   "cell_type": "code",
   "execution_count": 105,
   "id": "34f26129",
   "metadata": {},
   "outputs": [
    {
     "name": "stdout",
     "output_type": "stream",
     "text": [
      "Help on method_descriptor:\n",
      "\n",
      "strip(self, chars=None, /)\n",
      "    Return a copy of the string with leading and trailing whitespace removed.\n",
      "    \n",
      "    If chars is given and not None, remove characters in chars instead.\n",
      "\n"
     ]
    }
   ],
   "source": [
    "help(str.strip)"
   ]
  },
  {
   "cell_type": "markdown",
   "id": "4a3797f2",
   "metadata": {},
   "source": [
    "<b> Syntax : </b> string.strip([chars])\n",
    "\n",
    "where;\n",
    "* string: The original string that you want to strip.\n",
    "* chars (optional): This parameter specifies a set of characters to remove from the beginning and end of the string. If not provided, it will remove all leading and trailing whitespace characters.\n"
   ]
  },
  {
   "cell_type": "markdown",
   "id": "e5472d16",
   "metadata": {},
   "source": [
    "##### Here's an example of using the strip() method:\n",
    "\n"
   ]
  },
  {
   "cell_type": "code",
   "execution_count": 106,
   "id": "d8313a48",
   "metadata": {},
   "outputs": [
    {
     "name": "stdout",
     "output_type": "stream",
     "text": [
      "This is a string with extra whitespace.\n"
     ]
    }
   ],
   "source": [
    "text = \"   This is a string with extra whitespace.   \"\n",
    "stripped_text = text.strip() ##---> it removes white space\n",
    "print(stripped_text)  "
   ]
  },
  {
   "cell_type": "markdown",
   "id": "e94db35e",
   "metadata": {},
   "source": [
    "###  25.rstrip :\n",
    "\n",
    "* In Python, the rstrip() method is a string method used to remove trailing whitespace characters (spaces, tabs, and newline characters) from the right end of a string. It effectively trims or \"cleans\" the string by removing any whitespace at the end. "
   ]
  },
  {
   "cell_type": "code",
   "execution_count": 107,
   "id": "0536c335",
   "metadata": {},
   "outputs": [
    {
     "name": "stdout",
     "output_type": "stream",
     "text": [
      "Help on method_descriptor:\n",
      "\n",
      "rstrip(self, chars=None, /)\n",
      "    Return a copy of the string with trailing whitespace removed.\n",
      "    \n",
      "    If chars is given and not None, remove characters in chars instead.\n",
      "\n"
     ]
    }
   ],
   "source": [
    "help(str.rstrip)"
   ]
  },
  {
   "cell_type": "markdown",
   "id": "eb91bdcb",
   "metadata": {},
   "source": [
    "<b>Syntax :</b> string.rstrip([chars])\n",
    "\n",
    "where;\n",
    "* string: The original string that you want to right-strip.\n",
    "* chars (optional): This parameter specifies a set of characters to remove from the right end of the string. If not provided, it will remove all trailing whitespace characters."
   ]
  },
  {
   "cell_type": "markdown",
   "id": "d9d25c05",
   "metadata": {},
   "source": [
    "##### Here's an example of using the rstrip() method:\n",
    "\n"
   ]
  },
  {
   "cell_type": "code",
   "execution_count": 109,
   "id": "bf952058",
   "metadata": {},
   "outputs": [
    {
     "data": {
      "text/plain": [
       "'!@# telangana #'"
      ]
     },
     "execution_count": 109,
     "metadata": {},
     "output_type": "execute_result"
    }
   ],
   "source": [
    "a=(\"!@# telangana #@!\") ##--> it removes special characters on right hand side \n",
    "a.rstrip('!@$')"
   ]
  },
  {
   "cell_type": "code",
   "execution_count": 110,
   "id": "4b325945",
   "metadata": {},
   "outputs": [
    {
     "data": {
      "text/plain": [
       "'!telangana!'"
      ]
     },
     "execution_count": 110,
     "metadata": {},
     "output_type": "execute_result"
    }
   ],
   "source": [
    "a=('!telangana!@')\n",
    "a.rstrip('@')"
   ]
  },
  {
   "cell_type": "markdown",
   "id": "2bc5ad2e",
   "metadata": {},
   "source": [
    "### 26.lstrip : \n",
    "\n",
    "* In Python, the lstrip() method is a string method used to remove leading whitespace characters (spaces, tabs, and newline characters) from the left end of a string. It effectively trims or \"cleans\" the string by removing any whitespace at the beginning."
   ]
  },
  {
   "cell_type": "code",
   "execution_count": 111,
   "id": "f080d8a2",
   "metadata": {},
   "outputs": [
    {
     "name": "stdout",
     "output_type": "stream",
     "text": [
      "Help on method_descriptor:\n",
      "\n",
      "lstrip(self, chars=None, /)\n",
      "    Return a copy of the string with leading whitespace removed.\n",
      "    \n",
      "    If chars is given and not None, remove characters in chars instead.\n",
      "\n"
     ]
    }
   ],
   "source": [
    "help(str.lstrip)"
   ]
  },
  {
   "cell_type": "markdown",
   "id": "b4d67916",
   "metadata": {},
   "source": [
    "<b> Syntax : </b>  string.lstrip([chars])\n",
    " \n",
    " where;\n",
    "* string: The original string that you want to left-strip.\n",
    "* chars (optional): This parameter specifies a set of characters to remove from the left end of the string. If not provided, it will remove all leading whitespace characters"
   ]
  },
  {
   "cell_type": "markdown",
   "id": "2308a6ec",
   "metadata": {},
   "source": [
    "##### Here's an example of using the lstrip() method:\n",
    "\n"
   ]
  },
  {
   "cell_type": "code",
   "execution_count": 118,
   "id": "a7c29d8d",
   "metadata": {},
   "outputs": [
    {
     "data": {
      "text/plain": [
       "' left just $#'"
      ]
     },
     "execution_count": 118,
     "metadata": {},
     "output_type": "execute_result"
    }
   ],
   "source": [
    "b=('#$ left just $#') ##-->> it removes special characters on left side \n",
    "b.lstrip('#$')"
   ]
  },
  {
   "cell_type": "markdown",
   "id": "1c1163d6",
   "metadata": {},
   "source": [
    "### 27.Format :\n",
    "\n",
    "* In Python, the format() method is used to format and insert values into a string. It allows you to create dynamic strings by replacing placeholders (usually enclosed in curly braces {}) with values you specify. This is a powerful way to construct strings with variable content.\n",
    "\n"
   ]
  },
  {
   "cell_type": "code",
   "execution_count": 119,
   "id": "0f26ad5d",
   "metadata": {},
   "outputs": [
    {
     "name": "stdout",
     "output_type": "stream",
     "text": [
      "Help on method_descriptor:\n",
      "\n",
      "format(...)\n",
      "    S.format(*args, **kwargs) -> str\n",
      "    \n",
      "    Return a formatted version of S, using substitutions from args and kwargs.\n",
      "    The substitutions are identified by braces ('{' and '}').\n",
      "\n"
     ]
    }
   ],
   "source": [
    "help(str.format)"
   ]
  },
  {
   "cell_type": "markdown",
   "id": "96a8d562",
   "metadata": {},
   "source": [
    "<b>Syntax : </b> formatted_string = \"Your {placeholder1} is {placeholder2}\".format(placeholder1=value1, placeholder2=value2)\n",
    "\n",
    "where;\n",
    "* formatted_string: The string with placeholders that you want to format.\n",
    "* placeholder1, placeholder2, etc.: Placeholder names inside the string enclosed in curly braces. These will be replaced with values.\n",
    "* value1, value2, etc.: Values to replace the corresponding placeholders."
   ]
  },
  {
   "cell_type": "markdown",
   "id": "ccd7f9a2",
   "metadata": {},
   "source": [
    "##### Here's an example of using the format() method:\n",
    "\n"
   ]
  },
  {
   "cell_type": "code",
   "execution_count": 122,
   "id": "3cdd0945",
   "metadata": {},
   "outputs": [
    {
     "name": "stdout",
     "output_type": "stream",
     "text": [
      "Hello, my name is Alice and I am 30 years old.\n"
     ]
    }
   ],
   "source": [
    "name = \"Alice\"   ##-->Formats specified values in a string\n",
    "\n",
    "age = 30\n",
    "\n",
    "formatted_string = \"Hello, my name is {name} and I am {age} years old.\".format(name=name, age=age)\n",
    "print(formatted_string)"
   ]
  },
  {
   "cell_type": "markdown",
   "id": "1ab3b942",
   "metadata": {},
   "source": [
    "### 28.Format map :\n",
    "\n",
    "* In Python, the str.format_map() method is used to format a string by replacing placeholders using values from a dictionary. This method is similar to str.format(), but it takes a dictionary as an argument and uses keys from the dictionary to match placeholders in the string."
   ]
  },
  {
   "cell_type": "markdown",
   "id": "83c7bf04",
   "metadata": {},
   "source": [
    "<b> Syntax : </b> formatted_string = \"Your {placeholder1} is {placeholder2}\".format_map({\"placeholder1\": value1, \"placeholder2\": value2})\n",
    "\n",
    "where;\n",
    "* formatted_string: The string with placeholders that you want to format.\n",
    "* placeholder1, placeholder2, etc.: Placeholder names inside the string.\n",
    "* value1, value2, etc.: Values to replace the placeholders, specified in a dictionary.\n"
   ]
  },
  {
   "cell_type": "markdown",
   "id": "87ef344d",
   "metadata": {},
   "source": [
    "##### Here's the syntax for the format_map() method:\n",
    "\n"
   ]
  },
  {
   "cell_type": "code",
   "execution_count": 126,
   "id": "db19a16a",
   "metadata": {},
   "outputs": [
    {
     "name": "stdout",
     "output_type": "stream",
     "text": [
      "Hello, my name is Bob and I am 25 years old.\n"
     ]
    }
   ],
   "source": [
    "data = {\"name\": \"Bob\", \"age\": 25}\n",
    "formatted_string = \"Hello, my name is {name} and I am {age} years old.\".format_map(data)\n",
    "print(formatted_string)  "
   ]
  },
  {
   "cell_type": "markdown",
   "id": "c10df61b",
   "metadata": {},
   "source": [
    "### 29.Expand tabs :\n",
    "\n",
    " * In Python, the term \"expand tabs\" refers to the process of replacing tab characters (\\t) in a string with the appropriate number of spaces, based on the tab stops defined in the system or a specified number of spaces per tab. This is often done to ensure consistent and readable indentation within text.\n",
    " * The expandtabs() method in Python is used for this purpose. It allows you to control how tabs are expanded in a string.\n",
    "\n"
   ]
  },
  {
   "cell_type": "code",
   "execution_count": 127,
   "id": "33f19cc3",
   "metadata": {},
   "outputs": [
    {
     "name": "stdout",
     "output_type": "stream",
     "text": [
      "Help on method_descriptor:\n",
      "\n",
      "expandtabs(self, /, tabsize=8)\n",
      "    Return a copy where all tab characters are expanded using spaces.\n",
      "    \n",
      "    If tabsize is not given, a tab size of 8 characters is assumed.\n",
      "\n"
     ]
    }
   ],
   "source": [
    "help(str.expandtabs)"
   ]
  },
  {
   "cell_type": "markdown",
   "id": "a2652919",
   "metadata": {},
   "source": [
    "<b> Syntax : </b> string.expandtabs(tabsize)\n",
    "\n",
    "where;\n",
    "* string: The original string containing tab characters that you want to expand.\n",
    "* tabsize (optional): An integer that specifies the number of spaces to replace each tab character with. If not provided, it defaults to 8 spaces."
   ]
  },
  {
   "cell_type": "code",
   "execution_count": 129,
   "id": "d105ca2e",
   "metadata": {},
   "outputs": [
    {
     "name": "stdout",
     "output_type": "stream",
     "text": [
      "This is a   tab-indented    string.\n"
     ]
    }
   ],
   "source": [
    "text = \"This is a\\ttab-indented\\tstring.\"\n",
    "expanded_text = text.expandtabs(4) ##--> it sets Sets the tab size of the string\n",
    "print(expanded_text)\n"
   ]
  },
  {
   "cell_type": "markdown",
   "id": "a696d240",
   "metadata": {},
   "source": [
    "### 30. Join :\n",
    "\n",
    "* In Python, the join() method is used to concatenate a sequence of strings, such as a list, tuple, or another iterable, into a single string. It places a specified separator between each element in the sequence."
   ]
  },
  {
   "cell_type": "code",
   "execution_count": 130,
   "id": "68e963b0",
   "metadata": {},
   "outputs": [
    {
     "name": "stdout",
     "output_type": "stream",
     "text": [
      "Help on method_descriptor:\n",
      "\n",
      "join(self, iterable, /)\n",
      "    Concatenate any number of strings.\n",
      "    \n",
      "    The string whose method is called is inserted in between each given string.\n",
      "    The result is returned as a new string.\n",
      "    \n",
      "    Example: '.'.join(['ab', 'pq', 'rs']) -> 'ab.pq.rs'\n",
      "\n"
     ]
    }
   ],
   "source": [
    "help(str.join)"
   ]
  },
  {
   "cell_type": "markdown",
   "id": "85b625b0",
   "metadata": {},
   "source": [
    "<b> Syntax : </b> separator.join(iterable)\n",
    "\n",
    "where;\n",
    "* separator: The string that you want to use as a separator between the elements of the iterable.\n",
    "* iterable: The sequence of strings you want to concatenate.\n"
   ]
  },
  {
   "cell_type": "markdown",
   "id": "db426a30",
   "metadata": {},
   "source": [
    "##### Here's an example of using the join() method:\n",
    "\n"
   ]
  },
  {
   "cell_type": "code",
   "execution_count": 133,
   "id": "6ff14bfe",
   "metadata": {},
   "outputs": [
    {
     "name": "stdout",
     "output_type": "stream",
     "text": [
      "This @@@ is @@@ a @@@ list @@@ of @@@ words\n"
     ]
    }
   ],
   "source": [
    "words = [\"This\", \"is\", \"a\", \"list\", \"of\", \"words\"]\n",
    "separator = \" @@@ \"\n",
    "sentence = separator.join(words)\n",
    "print(sentence)  \n"
   ]
  },
  {
   "cell_type": "markdown",
   "id": "93c39fb7",
   "metadata": {},
   "source": [
    "* In this example, the join() method takes the list of words and concatenates them into a single string with spaces between each word. "
   ]
  },
  {
   "cell_type": "markdown",
   "id": "42b4fee9",
   "metadata": {},
   "source": [
    "### 31.is alpha :\n",
    "\n",
    "*  In Python, isalpha() is a string method that checks whether all the characters in a given string are alphabetic characters (letters). It returns True if all characters in the string are letters (a-z or A-Z), and False otherwise."
   ]
  },
  {
   "cell_type": "code",
   "execution_count": 134,
   "id": "a5fe0458",
   "metadata": {},
   "outputs": [
    {
     "name": "stdout",
     "output_type": "stream",
     "text": [
      "Help on method_descriptor:\n",
      "\n",
      "isalpha(self, /)\n",
      "    Return True if the string is an alphabetic string, False otherwise.\n",
      "    \n",
      "    A string is alphabetic if all characters in the string are alphabetic and there\n",
      "    is at least one character in the string.\n",
      "\n"
     ]
    }
   ],
   "source": [
    "help(str.isalpha)"
   ]
  },
  {
   "cell_type": "markdown",
   "id": "fafb024a",
   "metadata": {},
   "source": [
    "<b>Syntax : </b> string.isalpha()\n",
    "\n",
    "where;\n",
    "* string: The string you want to check for alphabetic characters."
   ]
  },
  {
   "cell_type": "markdown",
   "id": "7f225234",
   "metadata": {},
   "source": [
    "##### Here's an example of using the isalpha() method:\n",
    "\n"
   ]
  },
  {
   "cell_type": "code",
   "execution_count": 136,
   "id": "abbca4b8",
   "metadata": {},
   "outputs": [
    {
     "name": "stdout",
     "output_type": "stream",
     "text": [
      "True\n",
      "False\n",
      "False\n"
     ]
    }
   ],
   "source": [
    "text1 = \"Hello\"\n",
    "text2 = \"Hello123\"\n",
    "text3 = \"12345\"\n",
    "\n",
    "result1 = text1.isalpha() ##---> it gives true , when the given string is in alphabets only  \n",
    "result2 = text2.isalpha()\n",
    "result3 = text3.isalpha()\n",
    "\n",
    "print(result1)  \n",
    "print(result2)  \n",
    "print(result3) \n"
   ]
  },
  {
   "cell_type": "markdown",
   "id": "a4871f78",
   "metadata": {},
   "source": [
    "### 32. is numeric :\n",
    "\n",
    "* In Python, isnumeric() is a string method that checks whether all the characters in a given string are numeric characters (digits). It returns True if all characters in the string are numeric, and False otherwise."
   ]
  },
  {
   "cell_type": "code",
   "execution_count": 137,
   "id": "6528a655",
   "metadata": {},
   "outputs": [
    {
     "name": "stdout",
     "output_type": "stream",
     "text": [
      "Help on method_descriptor:\n",
      "\n",
      "isnumeric(self, /)\n",
      "    Return True if the string is a numeric string, False otherwise.\n",
      "    \n",
      "    A string is numeric if all characters in the string are numeric and there is at\n",
      "    least one character in the string.\n",
      "\n"
     ]
    }
   ],
   "source": [
    "help(str.isnumeric)"
   ]
  },
  {
   "cell_type": "markdown",
   "id": "fa0841a3",
   "metadata": {},
   "source": [
    "<b>Syntax :</b> string.isnumeric()\n",
    " \n",
    " where;\n",
    " * string: The string you want to check for numeric characters.\n",
    " "
   ]
  },
  {
   "cell_type": "markdown",
   "id": "5f0015de",
   "metadata": {},
   "source": [
    "##### Here's an example of using the isnumeric() method:\n",
    "\n"
   ]
  },
  {
   "cell_type": "code",
   "execution_count": 142,
   "id": "a0b456a3",
   "metadata": {},
   "outputs": [
    {
     "name": "stdout",
     "output_type": "stream",
     "text": [
      "True\n",
      "False\n",
      "False\n"
     ]
    }
   ],
   "source": [
    "num_str1 = \"12345\"\n",
    "num_str2 = \"4.23\"\n",
    "text_str = \"Hello123\"\n",
    "\n",
    "result1 = num_str1.isnumeric()\n",
    "result2 = num_str2.isnumeric()\n",
    "result3 = text_str.isnumeric()\n",
    "\n",
    "print(result1)  \n",
    "print(result2)  ##-->> it gives true ,when the given string is in numbers only \n",
    "print(result3)  \n"
   ]
  },
  {
   "cell_type": "markdown",
   "id": "eee04433",
   "metadata": {},
   "source": [
    "### 33. is decimal :\n",
    "\n",
    "* In Python, there is no built-in isdecimal() function. However, you can achieve similar functionality by using the str.isdecimal() method.\n",
    "\n",
    "* The str.isdecimal() method is used to check if all characters in a string are decimal characters (0-9). It returns True if all characters are decimal, and False otherwise."
   ]
  },
  {
   "cell_type": "code",
   "execution_count": 139,
   "id": "5fc1a7e3",
   "metadata": {},
   "outputs": [
    {
     "name": "stdout",
     "output_type": "stream",
     "text": [
      "Help on method_descriptor:\n",
      "\n",
      "isdecimal(self, /)\n",
      "    Return True if the string is a decimal string, False otherwise.\n",
      "    \n",
      "    A string is a decimal string if all characters in the string are decimal and\n",
      "    there is at least one character in the string.\n",
      "\n"
     ]
    }
   ],
   "source": [
    "help(str.isdecimal)"
   ]
  },
  {
   "cell_type": "markdown",
   "id": "3795ee66",
   "metadata": {},
   "source": [
    "<b>Syntax :</b> string.isdecimal()\n",
    "\n",
    "where;\n",
    "* string: The string you want to check for decimal characters."
   ]
  },
  {
   "cell_type": "markdown",
   "id": "ebb5e44c",
   "metadata": {},
   "source": [
    "##### Here's an example of using the str.isdecimal() method:"
   ]
  },
  {
   "cell_type": "code",
   "execution_count": 140,
   "id": "272adfd5",
   "metadata": {},
   "outputs": [
    {
     "name": "stdout",
     "output_type": "stream",
     "text": [
      "True\n",
      "False\n",
      "False\n"
     ]
    }
   ],
   "source": [
    "num_str1 = \"12345\"\n",
    "num_str2 = \"42.3\"\n",
    "text_str = \"Hello123\"\n",
    "\n",
    "result1 = num_str1.isdecimal()\n",
    "result2 = num_str2.isdecimal()\n",
    "result3 = text_str.isdecimal()\n",
    "\n",
    "print(result1)  \n",
    "print(result2)  \n",
    "print(result3)  \n"
   ]
  },
  {
   "cell_type": "markdown",
   "id": "f90d1358",
   "metadata": {},
   "source": [
    "###  34.is digit :\n",
    " \n",
    "* In Python, isdigit() is a string method that checks whether all the characters in a given string are numeric digits (0-9). It returns True if all characters in the string are digits, and False otherwise."
   ]
  },
  {
   "cell_type": "code",
   "execution_count": 143,
   "id": "f4b5f6c5",
   "metadata": {},
   "outputs": [
    {
     "name": "stdout",
     "output_type": "stream",
     "text": [
      "Help on method_descriptor:\n",
      "\n",
      "isdigit(self, /)\n",
      "    Return True if the string is a digit string, False otherwise.\n",
      "    \n",
      "    A string is a digit string if all characters in the string are digits and there\n",
      "    is at least one character in the string.\n",
      "\n"
     ]
    }
   ],
   "source": [
    "help(str.isdigit)"
   ]
  },
  {
   "cell_type": "markdown",
   "id": "f28903ef",
   "metadata": {},
   "source": [
    "<b>Syntax :</b> string.isdigit()\n",
    "\n",
    "where;\n",
    "* string: The string you want to check for digit characters."
   ]
  },
  {
   "cell_type": "markdown",
   "id": "36035831",
   "metadata": {},
   "source": [
    "##### Here's an example of using the isdigit() method:\n",
    "\n"
   ]
  },
  {
   "cell_type": "code",
   "execution_count": 144,
   "id": "cee4e2e4",
   "metadata": {},
   "outputs": [
    {
     "name": "stdout",
     "output_type": "stream",
     "text": [
      "True\n",
      "False\n",
      "False\n"
     ]
    }
   ],
   "source": [
    "num_str1 = \"12345\"\n",
    "num_str2 = \"42.3\"\n",
    "text_str = \"Hello123\"\n",
    "\n",
    "result1 = num_str1.isdigit()\n",
    "result2 = num_str2.isdigit()\n",
    "result3 = text_str.isdigit()\n",
    "\n",
    "print(result1)  \n",
    "print(result2) \n",
    "print(result3)  \n"
   ]
  },
  {
   "cell_type": "markdown",
   "id": "678691d3",
   "metadata": {},
   "source": [
    "### 35.is ascii :\n",
    "\n",
    "* In Python, str.isascii() is a method used to check whether all characters in a string are ASCII characters. It returns True if all characters in the string are part of the ASCII character set, and False if any characters are outside the ASCII range.\n"
   ]
  },
  {
   "cell_type": "code",
   "execution_count": 145,
   "id": "c444f00e",
   "metadata": {},
   "outputs": [
    {
     "name": "stdout",
     "output_type": "stream",
     "text": [
      "Help on method_descriptor:\n",
      "\n",
      "isascii(self, /)\n",
      "    Return True if all characters in the string are ASCII, False otherwise.\n",
      "    \n",
      "    ASCII characters have code points in the range U+0000-U+007F.\n",
      "    Empty string is ASCII too.\n",
      "\n"
     ]
    }
   ],
   "source": [
    "help(str.isascii)"
   ]
  },
  {
   "cell_type": "markdown",
   "id": "2c8450bc",
   "metadata": {},
   "source": [
    "<b>Syntax : </b> string.isascii()\n",
    "\n",
    "where;\n",
    "* string: The string you want to check for ASCII characters."
   ]
  },
  {
   "cell_type": "markdown",
   "id": "d9b68959",
   "metadata": {},
   "source": [
    "##### Here's an example of using the isascii() method:\n",
    "\n"
   ]
  },
  {
   "cell_type": "code",
   "execution_count": 146,
   "id": "cf9f69e3",
   "metadata": {},
   "outputs": [
    {
     "name": "stdout",
     "output_type": "stream",
     "text": [
      "True\n",
      "False\n"
     ]
    }
   ],
   "source": [
    "ascii_str = \"This is a string with only ASCII characters.\"\n",
    "non_ascii_str = \"Café\"\n",
    "\n",
    "result1 = ascii_str.isascii()\n",
    "result2 = non_ascii_str.isascii()\n",
    "\n",
    "print(result1)  \n",
    "print(result2)  \n"
   ]
  },
  {
   "cell_type": "markdown",
   "id": "0958b0f5",
   "metadata": {},
   "source": [
    "### 36. is alnum:\n",
    "\n",
    "* In Python, str.isalnum() is a string method that checks whether all the characters in a given string are alphanumeric. It returns True if all characters in the string are either letters (a-z or A-Z) or digits (0-9), and False otherwise."
   ]
  },
  {
   "cell_type": "code",
   "execution_count": 147,
   "id": "831e1535",
   "metadata": {},
   "outputs": [
    {
     "name": "stdout",
     "output_type": "stream",
     "text": [
      "Help on method_descriptor:\n",
      "\n",
      "isalnum(self, /)\n",
      "    Return True if the string is an alpha-numeric string, False otherwise.\n",
      "    \n",
      "    A string is alpha-numeric if all characters in the string are alpha-numeric and\n",
      "    there is at least one character in the string.\n",
      "\n"
     ]
    }
   ],
   "source": [
    "help(str.isalnum)"
   ]
  },
  {
   "cell_type": "markdown",
   "id": "fc3428db",
   "metadata": {},
   "source": [
    "<b>Syntax :</b> string.isalnum()\n",
    "\n",
    "where;\n",
    "* string: The string you want to check for alphanumeric characters.\n",
    "    "
   ]
  },
  {
   "cell_type": "markdown",
   "id": "b341f036",
   "metadata": {},
   "source": [
    "##### Here's an example of using the isalnum() method:\n",
    "\n"
   ]
  },
  {
   "cell_type": "code",
   "execution_count": 148,
   "id": "afd3d4d1",
   "metadata": {},
   "outputs": [
    {
     "name": "stdout",
     "output_type": "stream",
     "text": [
      "True\n",
      "False\n",
      "False\n"
     ]
    }
   ],
   "source": [
    "alphanumeric_str1 = \"Hello123\"\n",
    "alphanumeric_str2 = \"Hello, World!\"\n",
    "non_alphanumeric_str = \"12345@\"\n",
    "\n",
    "result1 = alphanumeric_str1.isalnum()\n",
    "result2 = alphanumeric_str2.isalnum()\n",
    "result3 = non_alphanumeric_str.isalnum()\n",
    "\n",
    "print(result1)  \n",
    "print(result2)  \n",
    "print(result3)  \n"
   ]
  },
  {
   "cell_type": "markdown",
   "id": "80260a34",
   "metadata": {},
   "source": [
    "### 37.is identifier :\n",
    "\n",
    "* In Python, str.isidentifier() is a string method that checks whether a given string is a valid Python identifier. A valid Python identifier is a name used to identify variables, functions, classes, modules, etc., and it must follow specific naming rules."
   ]
  },
  {
   "cell_type": "code",
   "execution_count": 149,
   "id": "3616a460",
   "metadata": {},
   "outputs": [
    {
     "name": "stdout",
     "output_type": "stream",
     "text": [
      "Help on method_descriptor:\n",
      "\n",
      "isidentifier(self, /)\n",
      "    Return True if the string is a valid Python identifier, False otherwise.\n",
      "    \n",
      "    Call keyword.iskeyword(s) to test whether string s is a reserved identifier,\n",
      "    such as \"def\" or \"class\".\n",
      "\n"
     ]
    }
   ],
   "source": [
    "help(str.isidentifier)"
   ]
  },
  {
   "cell_type": "markdown",
   "id": "b2cd1156",
   "metadata": {},
   "source": [
    "<b>Syntax : </b> string.isidentifier()\n",
    "\n",
    "where;\n",
    "* string: The string you want to check if it is a valid Python identifier.\n"
   ]
  },
  {
   "cell_type": "markdown",
   "id": "daa6714d",
   "metadata": {},
   "source": [
    "##### Here's an example of using the isidentifier() method:\n",
    "\n"
   ]
  },
  {
   "cell_type": "code",
   "execution_count": 150,
   "id": "289c87d0",
   "metadata": {},
   "outputs": [
    {
     "name": "stdout",
     "output_type": "stream",
     "text": [
      "True\n",
      "False\n",
      "True\n",
      "True\n"
     ]
    }
   ],
   "source": [
    "valid_identifier = \"my_variable\"\n",
    "invalid_identifier1 = \"1st_variable\"\n",
    "invalid_identifier2 = \"for\"\n",
    "invalid_identifier3 = \"if\"\n",
    "\n",
    "result1 = valid_identifier.isidentifier()\n",
    "result2 = invalid_identifier1.isidentifier()\n",
    "result3 = invalid_identifier2.isidentifier()\n",
    "result4 = invalid_identifier3.isidentifier()\n",
    "\n",
    "print(result1)  \n",
    "print(result2) \n",
    "print(result3)  \n",
    "print(result4)  \n"
   ]
  },
  {
   "cell_type": "markdown",
   "id": "5d10f6ad",
   "metadata": {},
   "source": [
    "### 38 .is printable :\n",
    "\n",
    "* In Python, the str.isprintable() method is used to check whether all the characters in a given string are printable. Printable characters are those that, when displayed, produce visible and readable output. This method returns True if all characters in the string are printable, and False if the string contains non-printable characters."
   ]
  },
  {
   "cell_type": "code",
   "execution_count": 151,
   "id": "0f4d6902",
   "metadata": {},
   "outputs": [
    {
     "name": "stdout",
     "output_type": "stream",
     "text": [
      "Help on method_descriptor:\n",
      "\n",
      "isprintable(self, /)\n",
      "    Return True if the string is printable, False otherwise.\n",
      "    \n",
      "    A string is printable if all of its characters are considered printable in\n",
      "    repr() or if it is empty.\n",
      "\n"
     ]
    }
   ],
   "source": [
    "help(str.isprintable)"
   ]
  },
  {
   "cell_type": "markdown",
   "id": "9adcb164",
   "metadata": {},
   "source": [
    "<b> Syntax : </b> string.isprintable()\n",
    "\n",
    "where;\n",
    "* string: The string you want to check for printable characters."
   ]
  },
  {
   "cell_type": "markdown",
   "id": "d18e2690",
   "metadata": {},
   "source": [
    "##### Here's the syntax for the isprintable() method:\n",
    "\n"
   ]
  },
  {
   "cell_type": "code",
   "execution_count": 152,
   "id": "e3116329",
   "metadata": {},
   "outputs": [
    {
     "name": "stdout",
     "output_type": "stream",
     "text": [
      "True\n",
      "False\n"
     ]
    }
   ],
   "source": [
    "printable_str = \"This is a printable string.\"\n",
    "non_printable_str = \"This is a\\nnon-printable string.\"\n",
    "\n",
    "r1 = printable_str.isprintable()\n",
    "r2 = non_printable_str.isprintable()\n",
    "\n",
    "print(result1)  \n",
    "print(result2)  \n"
   ]
  },
  {
   "cell_type": "markdown",
   "id": "6f0923f4",
   "metadata": {},
   "source": [
    "### 39.is space :\n",
    "\n",
    "* In Python, the str.isspace() method is used to check whether all the characters in a given string are whitespace characters. It returns True if all characters in the string are whitespace characters, and False otherwise."
   ]
  },
  {
   "cell_type": "code",
   "execution_count": 153,
   "id": "4eb9e6d0",
   "metadata": {},
   "outputs": [
    {
     "name": "stdout",
     "output_type": "stream",
     "text": [
      "Help on method_descriptor:\n",
      "\n",
      "isspace(self, /)\n",
      "    Return True if the string is a whitespace string, False otherwise.\n",
      "    \n",
      "    A string is whitespace if all characters in the string are whitespace and there\n",
      "    is at least one character in the string.\n",
      "\n"
     ]
    }
   ],
   "source": [
    "help(str.isspace)"
   ]
  },
  {
   "cell_type": "markdown",
   "id": "8bf98063",
   "metadata": {},
   "source": [
    "<b> Syntax :</b > string.isspace()\n",
    "\n",
    "where;\n",
    "* string: The string you want to check for whitespace characters."
   ]
  },
  {
   "cell_type": "markdown",
   "id": "9864c6cc",
   "metadata": {},
   "source": [
    "##### Here's an example of using the isspace() method:\n",
    "\n"
   ]
  },
  {
   "cell_type": "code",
   "execution_count": 154,
   "id": "d111dd95",
   "metadata": {},
   "outputs": [
    {
     "name": "stdout",
     "output_type": "stream",
     "text": [
      "True\n",
      "False\n",
      "False\n"
     ]
    }
   ],
   "source": [
    "whitespace_str1 = \"   \\t   \"\n",
    "whitespace_str2 = \" This has spaces \"\n",
    "non_whitespace_str = \"This is not just spaces\"\n",
    "\n",
    "result1 = whitespace_str1.isspace()\n",
    "result2 = whitespace_str2.isspace()\n",
    "result3 = non_whitespace_str.isspace()\n",
    "\n",
    "print(result1)  \n",
    "print(result2)  \n",
    "print(result3)  \n"
   ]
  },
  {
   "cell_type": "markdown",
   "id": "06c9bf9e",
   "metadata": {},
   "source": [
    "### 40.is upper :\n",
    "\n",
    "* In Python, str.isupper() is a string method used to check if all the alphabetic characters in a given string are uppercase letters. It returns True if all alphabetic characters are in uppercase, and False if there are lowercase or non-alphabetic characters."
   ]
  },
  {
   "cell_type": "code",
   "execution_count": 155,
   "id": "597f4c6c",
   "metadata": {},
   "outputs": [
    {
     "name": "stdout",
     "output_type": "stream",
     "text": [
      "Help on method_descriptor:\n",
      "\n",
      "isupper(self, /)\n",
      "    Return True if the string is an uppercase string, False otherwise.\n",
      "    \n",
      "    A string is uppercase if all cased characters in the string are uppercase and\n",
      "    there is at least one cased character in the string.\n",
      "\n"
     ]
    }
   ],
   "source": [
    "help(str.isupper)"
   ]
  },
  {
   "cell_type": "markdown",
   "id": "6e5efa27",
   "metadata": {},
   "source": [
    "<b> Syntax : </b> string.isupper()\n",
    "\n",
    "where;\n",
    "* string: The string you want to check for uppercase characters.\n"
   ]
  },
  {
   "cell_type": "markdown",
   "id": "d7cbeb29",
   "metadata": {},
   "source": [
    "##### Here's an example of using the isupper() method:\n",
    "\n"
   ]
  },
  {
   "cell_type": "code",
   "execution_count": 157,
   "id": "c94a05e7",
   "metadata": {},
   "outputs": [
    {
     "name": "stdout",
     "output_type": "stream",
     "text": [
      "True\n",
      "False\n",
      "False\n"
     ]
    }
   ],
   "source": [
    "uppercase_str1 = \"HELLO\"\n",
    "uppercase_str2 = \"Hello World\"\n",
    "mixed_case_str = \"MixEd CasE 123\"\n",
    "\n",
    "result1 = uppercase_str1.isupper() ##--> it checks given string is in capitals or not\n",
    "result2 = uppercase_str2.isupper()\n",
    "result3 = mixed_case_str.isupper()\n",
    "\n",
    "print(result1)  \n",
    "print(result2)  \n",
    "print(result3)  \n"
   ]
  },
  {
   "cell_type": "markdown",
   "id": "84a5a52a",
   "metadata": {},
   "source": [
    "### 41 .is lower:\n",
    "\n",
    "* In Python, str.islower() is a string method used to check if all the alphabetic characters in a given string are in lowercase. It returns True if all alphabetic characters are in lowercase, and False if there are uppercase or non-alphabetic characters. "
   ]
  },
  {
   "cell_type": "code",
   "execution_count": 158,
   "id": "07e6f2d8",
   "metadata": {},
   "outputs": [
    {
     "name": "stdout",
     "output_type": "stream",
     "text": [
      "Help on method_descriptor:\n",
      "\n",
      "islower(self, /)\n",
      "    Return True if the string is a lowercase string, False otherwise.\n",
      "    \n",
      "    A string is lowercase if all cased characters in the string are lowercase and\n",
      "    there is at least one cased character in the string.\n",
      "\n"
     ]
    }
   ],
   "source": [
    "help(str.islower)"
   ]
  },
  {
   "cell_type": "markdown",
   "id": "baaa7ff3",
   "metadata": {},
   "source": [
    "<b>Syntax :</b> string.islower()\n",
    "\n",
    "where;\n",
    "* string: The string you want to check for lowercase characters.\n"
   ]
  },
  {
   "cell_type": "markdown",
   "id": "0faf84bf",
   "metadata": {},
   "source": [
    "##### Here's an example of using the islower() method:\n",
    "\n"
   ]
  },
  {
   "cell_type": "code",
   "execution_count": 159,
   "id": "2d6443fe",
   "metadata": {},
   "outputs": [
    {
     "name": "stdout",
     "output_type": "stream",
     "text": [
      "True\n",
      "False\n",
      "False\n"
     ]
    }
   ],
   "source": [
    "lowercase_str1 = \"hello\"\n",
    "lowercase_str2 = \"Hello World\"\n",
    "mixed_case_str = \"MixEd CasE 123\"\n",
    "\n",
    "result1 = lowercase_str1.islower()\n",
    "result2 = lowercase_str2.islower()\n",
    "result3 = mixed_case_str.islower()\n",
    "\n",
    "print(result1) ##-->it checks for small letters \n",
    "print(result2)  \n",
    "print(result3) "
   ]
  },
  {
   "cell_type": "markdown",
   "id": "752ca584",
   "metadata": {},
   "source": [
    "### 42. is title :\n",
    "\n",
    "* In Python, str.istitle() is a string method used to check if the given string follows the titlecase convention. A titlecased string is one in which the first character of each word is in uppercase, and all other characters are in lowercase. It returns True if the string follows the titlecase convention, and False otherwise."
   ]
  },
  {
   "cell_type": "code",
   "execution_count": 160,
   "id": "43d06061",
   "metadata": {},
   "outputs": [
    {
     "name": "stdout",
     "output_type": "stream",
     "text": [
      "Help on method_descriptor:\n",
      "\n",
      "istitle(self, /)\n",
      "    Return True if the string is a title-cased string, False otherwise.\n",
      "    \n",
      "    In a title-cased string, upper- and title-case characters may only\n",
      "    follow uncased characters and lowercase characters only cased ones.\n",
      "\n"
     ]
    }
   ],
   "source": [
    "help(str.istitle)"
   ]
  },
  {
   "cell_type": "markdown",
   "id": "dfe07fa3",
   "metadata": {},
   "source": [
    "<b> Syntax :</b>  string.istitle()\n",
    "\n",
    "where;\n",
    "* string: The string you want to check for titlecase.\n"
   ]
  },
  {
   "cell_type": "markdown",
   "id": "a5386478",
   "metadata": {},
   "source": [
    "##### Here's an example of using the istitle() method:\n",
    "\n"
   ]
  },
  {
   "cell_type": "code",
   "execution_count": 162,
   "id": "aac699b0",
   "metadata": {},
   "outputs": [
    {
     "name": "stdout",
     "output_type": "stream",
     "text": [
      "True\n",
      "False\n",
      "False\n"
     ]
    }
   ],
   "source": [
    "title_str1 = \"This Is A Title\"\n",
    "title_str2 = \"This is not a Title\"\n",
    "mixed_case_str = \"MiXeD CasE 123\"\n",
    "\n",
    "result1 = title_str1.istitle() ##-->> it check for capital letters in every word of first etter in a string\n",
    "result2 = title_str2.istitle()\n",
    "result3 = mixed_case_str.istitle()\n",
    "\n",
    "print(result1)  \n",
    "print(result2)  \n",
    "print(result3)  \n"
   ]
  },
  {
   "cell_type": "markdown",
   "id": "a7fbb94c",
   "metadata": {},
   "source": [
    "### 43. Replace :\n",
    "\n",
    "* In Python, the replace() method is used to replace all occurrences of a specified substring within a string with another substring. It returns a new string with the replacements.\n",
    "\n",
    "\n"
   ]
  },
  {
   "cell_type": "code",
   "execution_count": 163,
   "id": "75bbe705",
   "metadata": {},
   "outputs": [
    {
     "name": "stdout",
     "output_type": "stream",
     "text": [
      "Help on method_descriptor:\n",
      "\n",
      "replace(self, old, new, count=-1, /)\n",
      "    Return a copy with all occurrences of substring old replaced by new.\n",
      "    \n",
      "      count\n",
      "        Maximum number of occurrences to replace.\n",
      "        -1 (the default value) means replace all occurrences.\n",
      "    \n",
      "    If the optional argument count is given, only the first count occurrences are\n",
      "    replaced.\n",
      "\n"
     ]
    }
   ],
   "source": [
    "help(str.replace)"
   ]
  },
  {
   "cell_type": "markdown",
   "id": "78fb83ed",
   "metadata": {},
   "source": [
    "<b> Syntax :</b> new_string = original_string.replace(old_substring, new_substring, count)\n",
    "\n",
    "where;\n",
    "* new_string: The resulting string with the specified replacements.\n",
    "* original_string: The original string in which you want to perform replacements.\n",
    "* old_substring: The substring you want to replace.\n",
    "* new_substring: The substring with which you want to replace the occurrences of the old substring.\n",
    "* count (optional): An integer specifying the maximum number of replacements to make. If not provided, all occurrences are replaced."
   ]
  },
  {
   "cell_type": "markdown",
   "id": "3de6adb6",
   "metadata": {},
   "source": [
    "##### Here's an example of using the replace() method:\n",
    "\n"
   ]
  },
  {
   "cell_type": "code",
   "execution_count": 164,
   "id": "eb65c895",
   "metadata": {},
   "outputs": [
    {
     "name": "stdout",
     "output_type": "stream",
     "text": [
      "This is a sample sentence with 'banana'. I like banana, and I have an banana tree.\n"
     ]
    }
   ],
   "source": [
    "original_text = \"This is a sample sentence with 'apple'. I like apple, and I have an apple tree.\"\n",
    "new_text = original_text.replace(\"apple\", \"banana\")\n",
    "\n",
    "print(new_text) ##-->Returns a string where a specified value is replaced with a specified value\n",
    "\n"
   ]
  },
  {
   "cell_type": "markdown",
   "id": "c1aa843e",
   "metadata": {},
   "source": [
    "### 44.make trans :\n",
    "\n",
    "* In Python, the str.maketrans() method is used to create a translation table that can be used with the str.translate() method. The translation table defines a mapping between individual characters or Unicode ordinals to other characters or None, effectively allowing you to perform character-level substitutions or removals."
   ]
  },
  {
   "cell_type": "code",
   "execution_count": 165,
   "id": "3857c6c8",
   "metadata": {},
   "outputs": [
    {
     "name": "stdout",
     "output_type": "stream",
     "text": [
      "Help on built-in function maketrans:\n",
      "\n",
      "maketrans(...)\n",
      "    Return a translation table usable for str.translate().\n",
      "    \n",
      "    If there is only one argument, it must be a dictionary mapping Unicode\n",
      "    ordinals (integers) or characters to Unicode ordinals, strings or None.\n",
      "    Character keys will be then converted to ordinals.\n",
      "    If there are two arguments, they must be strings of equal length, and\n",
      "    in the resulting dictionary, each character in x will be mapped to the\n",
      "    character at the same position in y. If there is a third argument, it\n",
      "    must be a string, whose characters will be mapped to None in the result.\n",
      "\n"
     ]
    }
   ],
   "source": [
    "help(str.maketrans)"
   ]
  },
  {
   "cell_type": "markdown",
   "id": "127cc476",
   "metadata": {},
   "source": [
    "<b> Syntax :</b> translation_table = str.maketrans({ord(char_to_replace): replacement, ...})\n",
    "\n",
    "where;\n",
    "* translation_table: The resulting translation table, which you can use with the str.translate() method.\n",
    "* char_to_replace: A character or Unicode ordinal you want to replace.\n",
    "* replacement: The character or Unicode ordinal you want to replace char_to_replace with."
   ]
  },
  {
   "cell_type": "markdown",
   "id": "09203834",
   "metadata": {},
   "source": [
    "##### Here's an example of using the str.maketrans() method:\n",
    "\n"
   ]
  },
  {
   "cell_type": "markdown",
   "id": "92f03a80",
   "metadata": {},
   "source": [
    "### Make trans ( )\n",
    "* "
   ]
  },
  {
   "cell_type": "code",
   "execution_count": 1,
   "id": "003e2605",
   "metadata": {},
   "outputs": [
    {
     "name": "stdout",
     "output_type": "stream",
     "text": [
      "Help on built-in function maketrans:\n",
      "\n",
      "maketrans(...)\n",
      "    Return a translation table usable for str.translate().\n",
      "    \n",
      "    If there is only one argument, it must be a dictionary mapping Unicode\n",
      "    ordinals (integers) or characters to Unicode ordinals, strings or None.\n",
      "    Character keys will be then converted to ordinals.\n",
      "    If there are two arguments, they must be strings of equal length, and\n",
      "    in the resulting dictionary, each character in x will be mapped to the\n",
      "    character at the same position in y. If there is a third argument, it\n",
      "    must be a string, whose characters will be mapped to None in the result.\n",
      "\n"
     ]
    }
   ],
   "source": [
    "help(str.maketrans)"
   ]
  },
  {
   "cell_type": "code",
   "execution_count": 2,
   "id": "c3e7363f",
   "metadata": {},
   "outputs": [
    {
     "data": {
      "text/plain": [
       "'@#Alice#@'"
      ]
     },
     "execution_count": 2,
     "metadata": {},
     "output_type": "execute_result"
    }
   ],
   "source": [
    "name = \"@#Alice#@\" \n",
    "name"
   ]
  },
  {
   "cell_type": "code",
   "execution_count": 10,
   "id": "ba378e72",
   "metadata": {},
   "outputs": [
    {
     "data": {
      "text/plain": [
       "{64: '6', 35: '7'}"
      ]
     },
     "execution_count": 10,
     "metadata": {},
     "output_type": "execute_result"
    }
   ],
   "source": [
    "c=name.maketrans({'@':('6'),\n",
    "                 '#':('7')})\n",
    "c"
   ]
  },
  {
   "cell_type": "code",
   "execution_count": 11,
   "id": "0475a9b3",
   "metadata": {},
   "outputs": [
    {
     "data": {
      "text/plain": [
       "'67Alice76'"
      ]
     },
     "execution_count": 11,
     "metadata": {},
     "output_type": "execute_result"
    }
   ],
   "source": [
    "name.translate(c)"
   ]
  }
 ],
 "metadata": {
  "kernelspec": {
   "display_name": "Python 3 (ipykernel)",
   "language": "python",
   "name": "python3"
  },
  "language_info": {
   "codemirror_mode": {
    "name": "ipython",
    "version": 3
   },
   "file_extension": ".py",
   "mimetype": "text/x-python",
   "name": "python",
   "nbconvert_exporter": "python",
   "pygments_lexer": "ipython3",
   "version": "3.11.5"
  }
 },
 "nbformat": 4,
 "nbformat_minor": 5
}
