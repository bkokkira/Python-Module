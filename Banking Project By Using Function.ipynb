{
 "cells": [
  {
   "cell_type": "markdown",
   "id": "08346b0e",
   "metadata": {},
   "source": [
    "## Banking System"
   ]
  },
  {
   "cell_type": "markdown",
   "id": "86429aab",
   "metadata": {},
   "source": [
    "1. Creating account\n",
    "2. Login \n",
    "3. add cash\n",
    "4. Trasnfer cash\n",
    "5. Changing Details \n"
   ]
  },
  {
   "cell_type": "code",
   "execution_count": 1,
   "id": "3e3bd44c",
   "metadata": {},
   "outputs": [],
   "source": [
    "class Bank_management:\n",
    "    def __init__(self):\n",
    "        self.client_details=[]\n",
    "        self.cash=100\n",
    "        self.loggedin=False\n",
    "        #self.name=None\n",
    "        \n",
    "    def register(self,name,phone_number,password):\n",
    "        condition=True\n",
    "        \n",
    "        if len(str(phone_number))!=10:\n",
    "            print('Invalid phone  number')\n",
    "            condition=False\n",
    "        if len(str(password))<5 and len(str(password))>18:\n",
    "            print('your password must be less than 18 and greater than 5  ')\n",
    "            condition=False\n",
    "        if condition==True:\n",
    "            self.client_details=[name,phone_number,password,self.cash]\n",
    "            with open(f'{name}.txt','w') as f:\n",
    "                for details in self.client_details:\n",
    "                    f.write(str(details)+'\\n')\n",
    "    def login(self,name, phone_number,password):\n",
    "        self.loggedin=True\n",
    "        \n",
    "        with open(f'{name}.txt','r') as f:\n",
    "            details=f.read()\n",
    "            self.client_details=str(details).split('\\n')\n",
    "            \n",
    "        if str(phone_number) in str(self.client_details) and str(password) in str(self.client_details):\n",
    "            print(f'{name} has logged in successfully')\n",
    "        else:\n",
    "            print('Incoorect Credentials')\n",
    "            \n",
    "    def add_cash(self,name,amount):\n",
    "        if amount>0:\n",
    "            self.cash+=amount\n",
    "            \n",
    "            with open(f'{name}.txt','r') as f:\n",
    "                details=f.read()\n",
    "                self.client_details=str(details).split('\\n')\n",
    "                print(self.client_details)\n",
    "                \n",
    "            with open(f'{name}.txt','r+') as f:\n",
    "                f.seek(0)\n",
    "                x=f.read ()\n",
    "                z=x.rfind('\\n',-1)\n",
    "                f.seek(z)\n",
    "                f.write(str(self.cash))\n",
    "                f.seek(0)\n",
    "                zz=f.read()\n",
    "                print(zz)\n",
    "                \n",
    "            print('amount has been added')\n",
    "        else:\n",
    "            print('Please enter a valid amount')\n",
    "\n",
    "    def update_phone_number(self,new_phone_number,name):\n",
    "        if len(str(new_phone_number))==10:\n",
    "            print('phone number update')\n",
    "            \n",
    "            with open(f'{name}.txt','r') as f:\n",
    "                details=f.read()\n",
    "                self.client_details=str(details).split('\\n')\n",
    "                print(self.client_details)\n",
    "            with open (f'{name}.txt','r+') as f:\n",
    "                f.seek(0)\n",
    "                x=f.read()\n",
    "                z=x.find('\\n',1)\n",
    "                print(z)\n",
    "                f.seek(z)\n",
    "                f.write('\\n'+new_phone_number)\n",
    "                f.seek(0)\n",
    "                zz=f.read()\n",
    "        \n",
    "    "
   ]
  },
  {
   "cell_type": "code",
   "execution_count": 2,
   "id": "d74a4e08",
   "metadata": {},
   "outputs": [],
   "source": [
    "obj1=Bank_management()"
   ]
  },
  {
   "cell_type": "code",
   "execution_count": 3,
   "id": "01433595",
   "metadata": {},
   "outputs": [],
   "source": [
    "obj1.register('Bhavani','1234567890',12345)"
   ]
  },
  {
   "cell_type": "code",
   "execution_count": 4,
   "id": "077430b3",
   "metadata": {},
   "outputs": [
    {
     "name": "stdout",
     "output_type": "stream",
     "text": [
      "Bhavani has logged in successfully\n"
     ]
    }
   ],
   "source": [
    "obj1.login('Bhavani','1234567890',12345)"
   ]
  },
  {
   "cell_type": "code",
   "execution_count": 5,
   "id": "af42ef9a",
   "metadata": {},
   "outputs": [
    {
     "name": "stdout",
     "output_type": "stream",
     "text": [
      "['Bhavani', '1234567890', '12345', '100', '']\n",
      "Bhavani\n",
      "1234567890\n",
      "12345\n",
      "1100\n",
      "\n",
      "amount has been added\n"
     ]
    }
   ],
   "source": [
    "obj1.add_cash('Bhavani',1000)"
   ]
  },
  {
   "cell_type": "code",
   "execution_count": 6,
   "id": "13876bbe",
   "metadata": {},
   "outputs": [
    {
     "name": "stdout",
     "output_type": "stream",
     "text": [
      "phone number update\n",
      "['Bhavani', '1234567890', '12345', '1100', '']\n",
      "7\n"
     ]
    }
   ],
   "source": [
    "obj1.update_phone_number('0987654321','Bhavani')"
   ]
  },
  {
   "cell_type": "code",
   "execution_count": null,
   "id": "767981eb",
   "metadata": {},
   "outputs": [],
   "source": []
  }
 ],
 "metadata": {
  "kernelspec": {
   "display_name": "Python 3 (ipykernel)",
   "language": "python",
   "name": "python3"
  },
  "language_info": {
   "codemirror_mode": {
    "name": "ipython",
    "version": 3
   },
   "file_extension": ".py",
   "mimetype": "text/x-python",
   "name": "python",
   "nbconvert_exporter": "python",
   "pygments_lexer": "ipython3",
   "version": "3.11.5"
  }
 },
 "nbformat": 4,
 "nbformat_minor": 5
}
