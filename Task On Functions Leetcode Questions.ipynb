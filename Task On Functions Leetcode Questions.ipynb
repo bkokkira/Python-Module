{
 "cells": [
  {
   "cell_type": "markdown",
   "id": "0dba798f",
   "metadata": {},
   "source": [
    "###  1678 Leetcode goal parser interpreter\n",
    "\n",
    "You own a Goal Parser that can interpret a string command. The command consists of an alphabet of \"G\", \"()\" and/or \"(al)\" in some order. The Goal Parser will interpret \"G\" as the string \"G\", \"()\" as the string \"o\", and \"(al)\" as the string \"al\". The interpreted strings are then concatenated in the original order.\n",
    "\n",
    "Given the string command, return the Goal Parser‘s interpretation of command."
   ]
  },
  {
   "cell_type": "code",
   "execution_count": 1,
   "id": "95a48acf",
   "metadata": {},
   "outputs": [],
   "source": [
    "def fooGoalParser(s):\n",
    "    ''' \n",
    "    This is a docstring for the fooGoalParser.\n",
    "    \n",
    "    The Goal Parser interprets the alphabet \"G\" as the string \"G\",\n",
    "    \"()\" as the string \"o\", and \"(al)\" as the string \"al\". The interpreted\n",
    "    strings are then concatenated in the original order.\n",
    "    \n",
    "    parameters :\n",
    "    \n",
    "    --->s : the input string ,to be interpreted.\n",
    "    \n",
    "    Return :\n",
    "    \n",
    "   ----> x: the interpreted as per the goal parser rules.\n",
    "    \n",
    "    '''\n",
    "    x = s\n",
    "    alCount, pCount = s.count('()'), s.count('(al)')\n",
    "    for i in range(alCount):\n",
    "        x = x.replace('(al)', 'al')\n",
    "        \n",
    "    for j in range(pCount):\n",
    "        x = x.replace('()', 'o')\n",
    "    return x    \n",
    "        \n",
    "    "
   ]
  },
  {
   "cell_type": "code",
   "execution_count": 2,
   "id": "48955c8f",
   "metadata": {},
   "outputs": [
    {
     "name": "stdout",
     "output_type": "stream",
     "text": [
      " \n",
      "    This is a docstring for the fooGoalParser.\n",
      "    \n",
      "    The Goal Parser interprets the alphabet \"G\" as the string \"G\",\n",
      "    \"()\" as the string \"o\", and \"(al)\" as the string \"al\". The interpreted\n",
      "    strings are then concatenated in the original order.\n",
      "    \n",
      "    parameters :\n",
      "    \n",
      "    --->s : the input string ,to be interpreted.\n",
      "    \n",
      "    Return :\n",
      "    \n",
      "   ----> x: the interpreted as per the goal parser rules.\n",
      "    \n",
      "    \n"
     ]
    }
   ],
   "source": [
    "print(fooGoalParser.__doc__)"
   ]
  },
  {
   "cell_type": "code",
   "execution_count": 4,
   "id": "f87acb94",
   "metadata": {},
   "outputs": [
    {
     "data": {
      "text/plain": [
       "'Goal'"
      ]
     },
     "execution_count": 4,
     "metadata": {},
     "output_type": "execute_result"
    }
   ],
   "source": [
    "fooGoalParser(\"G()(al)\")"
   ]
  },
  {
   "cell_type": "code",
   "execution_count": 6,
   "id": "bc4d20f8",
   "metadata": {},
   "outputs": [
    {
     "data": {
      "text/plain": [
       "'alGalooG'"
      ]
     },
     "execution_count": 6,
     "metadata": {},
     "output_type": "execute_result"
    }
   ],
   "source": [
    "fooGoalParser(\"(al)G(al)()()G\")"
   ]
  },
  {
   "cell_type": "markdown",
   "id": "033c67d1",
   "metadata": {},
   "source": [
    "### 1672 leetcode Richest Customer Wealth\n",
    "\n",
    "You are given an m x n integer grid accounts where accounts[i][j] is the amount of money the ith customer has in the jth bank. Return the wealth that the richest customer has.\n",
    "\n",
    "A customer's wealth is the amount of money they have in all their bank accounts. The richest customer is the customer that has the maximum wealth.\n",
    "\n",
    "* <b>Example</b>  Input: accounts = [[1,2,3],[3,2,1]]\n",
    "Output: 6\n",
    "Explanation:\n",
    "1st customer has wealth = 1 + 2 + 3 = 6\n",
    "2nd customer has wealth = 3 + 2 + 1 = 6\n",
    "Both customers are considered the richest with a wealth of 6 each, so return 6."
   ]
  },
  {
   "cell_type": "code",
   "execution_count": 7,
   "id": "c56d6db5",
   "metadata": {},
   "outputs": [],
   "source": [
    "def RichestWealth(p,s):\n",
    "    \n",
    "    '''\n",
    "    \n",
    "    This is a docstring for the Richest Customer wealth.\n",
    "     \n",
    "     parameters:\n",
    "     \n",
    "   ----->  p,s: customers wealth.\n",
    "       \n",
    "       x --->x gives sum of p(adding all elements in \"p\")\n",
    "       y --->y gives sum of s(adding all elements in \"s\")\n",
    "    \n",
    "     return :\n",
    "     \n",
    "   ------>  richest: it gives maximum of p and s \n",
    "   \n",
    "   '''\n",
    "    \n",
    "    x=sum(p)\n",
    "    y=sum(s)\n",
    "    richest=max(x,y)\n",
    "    for i in p:\n",
    "        if x==y:\n",
    "            print(f'both customers are considered as the richest with a wealth of {richest} each ,so return {richest}')\n",
    "        elif x>y:\n",
    "            print(f'1st customer has richest wealth: {richest}')\n",
    "        else:\n",
    "            print(f'2nd customer has richest wealth: {richest}')\n"
   ]
  },
  {
   "cell_type": "code",
   "execution_count": 8,
   "id": "dc552233",
   "metadata": {},
   "outputs": [
    {
     "name": "stdout",
     "output_type": "stream",
     "text": [
      "\n",
      "    \n",
      "    This is a docstring for the Richest Customer wealth.\n",
      "     \n",
      "     parameters:\n",
      "     \n",
      "   ----->  p,s: customers wealth.\n",
      "       \n",
      "       x --->x gives sum of p(adding all elements in \"p\")\n",
      "       y --->y gives sum of s(adding all elements in \"s\")\n",
      "    \n",
      "     return :\n",
      "     \n",
      "   ------>  richest: it gives maximum of p and s \n",
      "   \n",
      "   \n"
     ]
    }
   ],
   "source": [
    "print(RichestWealth.__doc__)"
   ]
  },
  {
   "cell_type": "code",
   "execution_count": 10,
   "id": "6e960e76",
   "metadata": {},
   "outputs": [
    {
     "name": "stdout",
     "output_type": "stream",
     "text": [
      "1st customer has richest wealth: 11\n",
      "1st customer has richest wealth: 11\n",
      "1st customer has richest wealth: 11\n"
     ]
    }
   ],
   "source": [
    "RichestWealth([1,2,8],[1,2,6])"
   ]
  },
  {
   "cell_type": "markdown",
   "id": "90450da8",
   "metadata": {},
   "source": [
    "### 1662 leet code check if two string arrays are equivalent \n",
    "* Given two string arrays word1 and word2, return true if the two arrays represent the same string, and false otherwise.A string is represented by an array if the array elements concatenated in order forms the string.\n",
    "\n",
    "* <b>example</b>Input: word1 = [\"ab\", \"c\"], word2 = [\"a\", \"bc\"]\n",
    "* Output: true\n",
    "* Explanation:\n",
    "word1 represents string \"ab\" + \"c\" -> \"abc\"\n",
    "word2 represents string \"a\" + \"bc\" -> \"abc\"\n",
    "The strings are the same, so return true."
   ]
  },
  {
   "cell_type": "code",
   "execution_count": 11,
   "id": "d2644087",
   "metadata": {},
   "outputs": [],
   "source": [
    "def equivalent(x:str,y:str):\n",
    "    \n",
    "    '''\n",
    "    \n",
    "      This is a docstring for the Richest Customer wealth.\n",
    "      \n",
    "    parameters:\n",
    "    \n",
    "    --->x: str  (accept string from user input)\n",
    "        y:str   (accept string from user input)\n",
    "    Return :\n",
    "    \n",
    "    ---->it checks condition, it prints the statements according to the condition.\n",
    "    ---->word : it concatinates x and y.\n",
    "    \n",
    "    '''\n",
    "    str1=''.join(x)\n",
    "    str2=''.join(y)\n",
    "    word=[str1]+[str2]\n",
    "    if x==y:\n",
    "        print('both strings are same')\n",
    "    else:\n",
    "        print('strings are different')\n",
    "    return word\n",
    "    "
   ]
  },
  {
   "cell_type": "code",
   "execution_count": 12,
   "id": "805191c1",
   "metadata": {},
   "outputs": [
    {
     "name": "stdout",
     "output_type": "stream",
     "text": [
      "strings are different\n"
     ]
    },
    {
     "data": {
      "text/plain": [
       "['abc', 'abc']"
      ]
     },
     "execution_count": 12,
     "metadata": {},
     "output_type": "execute_result"
    }
   ],
   "source": [
    "equivalent([\"ab\",\"c\"],[\"a\",\"bc\"])"
   ]
  },
  {
   "cell_type": "markdown",
   "id": "ee838081",
   "metadata": {},
   "source": [
    "### You are given two string arrays words1 and words2.\n",
    "\n",
    "* A string b is a subset of string a if every letter in b occurs in a including multiplicity.\n",
    "* For example, \"wrr\" is a subset of \"warrior\" but is not a subset of \"world\".A string a from words1 is universal if for every string b in words2, b is a subset of a.Return an array of all the universal strings in words1. You may return the answer in any order.\n",
    "Example 1:\n",
    "* Input: words1 = [\"amazon\",\"apple\",\"facebook\",\"google\",\"leetcode\"], words2 = [\"e\",\"o\"]\n",
    "* Output: [\"facebook\",\"google\",\"leetcode\"]"
   ]
  },
  {
   "cell_type": "code",
   "execution_count": 20,
   "id": "df5cb7d4",
   "metadata": {},
   "outputs": [],
   "source": [
    "def universal_strings(words1, words2):\n",
    "    '''\n",
    "    This is a doc string for the universal_strings function.\n",
    "    \n",
    "    Parameters:\n",
    "    \n",
    "    --->words1 : list of words to check for universality.\n",
    "    \n",
    "    --->words2 : list of strings to check if it's a subset of words1.\n",
    "    \n",
    "    Returns:\n",
    "    \n",
    "    --->result : a list of universal strings from words1\n",
    "    \n",
    "    '''\n",
    "    def is_universal(word, words2):\n",
    "        # Create a count of the maximum occurrences of each character in words2\n",
    "        max_count = {}\n",
    "        for word2 in words2:\n",
    "            count = {}\n",
    "            for char in word2:\n",
    "                count[char] = count.get(char, 0) + 1\n",
    "            for char in count:\n",
    "                if char not in max_count:\n",
    "                    max_count[char] = count[char]\n",
    "                else:\n",
    "                    max_count[char] = max(max_count[char], count[char])\n",
    "        \n",
    "        # Check if word contains at least the maximum number of each character required\n",
    "        count = {}\n",
    "        for char in word:\n",
    "            count[char] = count.get(char, 0) + 1\n",
    "        for char in max_count:\n",
    "            if count.get(char, 0) < max_count[char]:\n",
    "                return False\n",
    "        return True\n",
    "    \n",
    "    result = []\n",
    "    for word in words1:\n",
    "        if is_universal(word, words2):\n",
    "            result.append(word)\n",
    "    \n",
    "    return result\n"
   ]
  },
  {
   "cell_type": "code",
   "execution_count": 21,
   "id": "b988bdb8",
   "metadata": {},
   "outputs": [
    {
     "data": {
      "text/plain": [
       "['facebook']"
      ]
     },
     "execution_count": 21,
     "metadata": {},
     "output_type": "execute_result"
    }
   ],
   "source": [
    "universal_strings([\"amazon\",\"apple\",\"facebook\",\"google\",\"leetcode\"], words2 = [\"a\",\"e\",\"o\"])"
   ]
  },
  {
   "cell_type": "markdown",
   "id": "a429813e",
   "metadata": {},
   "source": [
    "### 1291.sequential Digits\n",
    "\n",
    "* An integer has sequential digits if and only if each digit in the number is one more than the previous digit.\n",
    "\n",
    "Return a sorted list of all the integers in the range [low, high] inclusive that have sequential digits."
   ]
  },
  {
   "cell_type": "code",
   "execution_count": 22,
   "id": "8217232c",
   "metadata": {},
   "outputs": [],
   "source": [
    "def sequentialDigits(low: int, high: int):\n",
    "    '''\n",
    "    this is the doc string for sequentialDigits:\n",
    "    \n",
    "    parameters:\n",
    "    \n",
    "    --->low :integer (from where you want to start from) \n",
    "    --->high :integer (from where you want to end from)\n",
    "    \n",
    "    Result :\n",
    "    \n",
    "    --->result :it gives sequential numbers from low to high.\n",
    "    \n",
    "    '''\n",
    "    seq_digits = '123456789'\n",
    "    result = []\n",
    "    for length in range(len(str(low)), len(str(high))+1):\n",
    "        for i in range(len(seq_digits)-length+1):\n",
    "            num = int(seq_digits[i:i+length])\n",
    "            if low <= num <= high:\n",
    "                result.append(num)\n",
    "    return result"
   ]
  },
  {
   "cell_type": "code",
   "execution_count": 23,
   "id": "0fb65ccb",
   "metadata": {},
   "outputs": [
    {
     "data": {
      "text/plain": [
       "[345, 456, 567]"
      ]
     },
     "execution_count": 23,
     "metadata": {},
     "output_type": "execute_result"
    }
   ],
   "source": [
    "sequentialDigits(300,600)"
   ]
  },
  {
   "cell_type": "code",
   "execution_count": null,
   "id": "fcb22245",
   "metadata": {},
   "outputs": [],
   "source": []
  },
  {
   "cell_type": "code",
   "execution_count": null,
   "id": "e4696c74",
   "metadata": {},
   "outputs": [],
   "source": []
  },
  {
   "cell_type": "code",
   "execution_count": null,
   "id": "dc4cab07",
   "metadata": {},
   "outputs": [],
   "source": []
  }
 ],
 "metadata": {
  "kernelspec": {
   "display_name": "Python 3 (ipykernel)",
   "language": "python",
   "name": "python3"
  },
  "language_info": {
   "codemirror_mode": {
    "name": "ipython",
    "version": 3
   },
   "file_extension": ".py",
   "mimetype": "text/x-python",
   "name": "python",
   "nbconvert_exporter": "python",
   "pygments_lexer": "ipython3",
   "version": "3.11.5"
  }
 },
 "nbformat": 4,
 "nbformat_minor": 5
}
